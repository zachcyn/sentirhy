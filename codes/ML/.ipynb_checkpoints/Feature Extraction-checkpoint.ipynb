{
 "cells": [
  {
   "cell_type": "code",
   "execution_count": 2,
   "id": "d0649978-b5ef-48a0-a809-777ddb6501c5",
   "metadata": {},
   "outputs": [],
   "source": [
    "import os\n",
    "import numpy as np\n",
    "from PIL import Image"
   ]
  },
  {
   "cell_type": "code",
   "execution_count": 5,
   "id": "267b0938-aead-4df3-a2be-b049f25e276d",
   "metadata": {},
   "outputs": [],
   "source": [
    "def load_fer2013_images(main_directory):\n",
    "    data = {'train': {'images': [], 'labels': []},\n",
    "            'test': {'images': [], 'labels': []}}\n",
    "    \n",
    "    for dataset_type in ['train', 'test']:\n",
    "        dataset_path = os.path.join(main_directory, dataset_type)\n",
    "        for emotion_folder in os.listdir(dataset_path):\n",
    "            folder_path = os.path.join(dataset_path, emotion_folder)\n",
    "            if os.path.isdir(folder_path):\n",
    "                for image_file in os.listdir(folder_path):\n",
    "                    image_path = os.path.join(folder_path, image_file)\n",
    "                    with Image.open(image_path) as img:\n",
    "                        data[dataset_type]['images'].append(np.array(img))\n",
    "                        data[dataset_type]['labels'].append(emotion_folder)\n",
    "    \n",
    "    # Convert lists to numpy arrays for easier handling\n",
    "    for dataset_type in ['train', 'test']:\n",
    "        data[dataset_type]['images'] = np.array(data[dataset_type]['images'])\n",
    "        data[dataset_type]['labels'] = np.array(data[dataset_type]['labels'])\n",
    "    \n",
    "    return data"
   ]
  },
  {
   "cell_type": "code",
   "execution_count": 6,
   "id": "69b2f989-e942-4979-a61a-03479f199f3b",
   "metadata": {},
   "outputs": [],
   "source": [
    "fer2013_data = load_fer2013_images('/Users/kailim/Downloads/Yie Nian/fyp/codes/Dataset/FER2013')"
   ]
  },
  {
   "cell_type": "code",
   "execution_count": 14,
   "id": "fcaab0c1-3e2e-4ba1-82ea-46e8fa3880cb",
   "metadata": {},
   "outputs": [],
   "source": [
    "def read_pts(filename):\n",
    "    \"\"\"Read a .pts file and return the landmarks as a list of tuples.\"\"\"\n",
    "    with open(filename, 'r') as file:\n",
    "        lines = file.readlines()[3:-1]  # Skip header lines and last line\n",
    "        landmarks = [tuple(map(float, line.strip().split(' '))) for line in lines]\n",
    "    return landmarks\n",
    "\n",
    "def load_300w_landmarks(main_directory):\n",
    "    \"\"\"Load all .pts files in the given subdirectory.\"\"\"\n",
    "    landmarks = []\n",
    "    indoor_dir = os.path.join(main_directory, '01_Indoor')\n",
    "    for file in os.listdir(indoor_dir):\n",
    "        if file.endswith('.pts'):\n",
    "            pts_path = os.path.join(indoor_dir, file)\n",
    "            landmarks.append(read_pts(pts_path))\n",
    "    return landmarks"
   ]
  },
  {
   "cell_type": "code",
   "execution_count": 15,
   "id": "d266a4dc-4a87-4501-b649-5d970e153975",
   "metadata": {},
   "outputs": [],
   "source": [
    "# Replace 'path_to_300W' with the path to your 300-W dataset directory\n",
    "path_to_300W = '/Users/kailim/Downloads/Yie Nian/fyp/codes/Dataset/300W'\n",
    "landmarks_data = load_300w_landmarks(path_to_300W)"
   ]
  },
  {
   "cell_type": "code",
   "execution_count": 17,
   "id": "5f01fce8-e35d-4715-90c3-6c1f1a305b6a",
   "metadata": {},
   "outputs": [],
   "source": [
    "def euclidean_distance(point1, point2):\n",
    "    return np.sqrt((point1[0] - point2[0])**2 + (point1[1] - point2[1])**2)\n",
    "\n",
    "def calculate_angle(point1, point2, point3):\n",
    "    a = np.array(point1) - np.array(point2)\n",
    "    b = np.array(point3) - np.array(point2)\n",
    "    cosine_angle = np.dot(a, b) / (np.linalg.norm(a) * np.linalg.norm(b))\n",
    "    angle = np.arccos(cosine_angle)\n",
    "    return np.degrees(angle)\n",
    "\n",
    "def extract_landmark_features(landmarks):\n",
    "    features = []\n",
    "    # Add more distance and angle calculations as needed\n",
    "    # Example: Distance between two points\n",
    "    features.append(euclidean_distance(landmarks[0], landmarks[1]))  # Example points\n",
    "    # Example: Angle formed by three points\n",
    "    features.append(calculate_angle(landmarks[2], landmarks[3], landmarks[4]))  # Example points\n",
    "    return features"
   ]
  },
  {
   "cell_type": "code",
   "execution_count": 18,
   "id": "a6b33f0c-7de5-403c-8896-d7ce6b4f26fb",
   "metadata": {},
   "outputs": [],
   "source": [
    "# Assuming 'landmarks_data' contains your extracted landmarks\n",
    "landmark_features = [extract_landmark_features(landmarks) for landmarks in landmarks_data]"
   ]
  },
  {
   "cell_type": "code",
   "execution_count": null,
   "id": "17cbdcc9-aa23-445f-95de-199b19e6a575",
   "metadata": {},
   "outputs": [],
   "source": []
  }
 ],
 "metadata": {
  "kernelspec": {
   "display_name": "Python 3 (ipykernel)",
   "language": "python",
   "name": "python3"
  },
  "language_info": {
   "codemirror_mode": {
    "name": "ipython",
    "version": 3
   },
   "file_extension": ".py",
   "mimetype": "text/x-python",
   "name": "python",
   "nbconvert_exporter": "python",
   "pygments_lexer": "ipython3",
   "version": "3.10.13"
  }
 },
 "nbformat": 4,
 "nbformat_minor": 5
}
