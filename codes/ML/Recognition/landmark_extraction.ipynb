{
 "cells": [
  {
   "cell_type": "code",
   "execution_count": 37,
   "metadata": {},
   "outputs": [],
   "source": [
    "import cv2\n",
    "import mediapipe as mp\n",
    "import matplotlib.pyplot as plt\n",
    "import os\n",
    "import numpy as np"
   ]
  },
  {
   "cell_type": "code",
   "execution_count": 38,
   "metadata": {},
   "outputs": [],
   "source": [
    "\n",
    "# Update this path to the location of your FER2013 dataset\n",
    "base_dir = '../../Dataset/FER2013/' \n",
    "sub_dirs = ['train','test']\n",
    "\n",
    "mp_face_mesh = mp.solutions.face_mesh\n",
    "face_mesh = mp_face_mesh.FaceMesh(static_image_mode=True, max_num_faces=1, min_detection_confidence=0.5)"
   ]
  },
  {
   "cell_type": "code",
   "execution_count": 39,
   "metadata": {},
   "outputs": [],
   "source": [
    "def extract_landmarks(results):\n",
    "    if results.multi_face_landmarks:\n",
    "        face_landmarks = results.multi_face_landmarks[0]\n",
    "        \n",
    "        landmarks = [(landmark.x, landmark.y, landmark.z) for landmark in face_landmarks.landmark]\n",
    "        return landmarks\n",
    "    else:\n",
    "        return None"
   ]
  },
  {
   "cell_type": "code",
   "execution_count": 40,
   "metadata": {},
   "outputs": [],
   "source": [
    "landmark_data = []\n",
    "\n",
    "for sub_dir in sub_dirs:\n",
    "    path = os.path.join(base_dir, sub_dir)\n",
    "    for emotion in os.listdir(path):\n",
    "        emotion_path = os.path.join(path, emotion)\n",
    "        for image_file in os.listdir(emotion_path):\n",
    "            image_path = os.path.join(emotion_path, image_file)\n",
    "\n",
    "            # Load the image\n",
    "            image = cv2.imread(image_path)\n",
    "            if image is None:\n",
    "                continue  # Skip if the image can't be loaded\n",
    "\n",
    "            # Convert the image to RGB\n",
    "            image_rgb = cv2.cvtColor(image, cv2.COLOR_BGR2RGB)\n",
    "\n",
    "            # Detect landmarks\n",
    "            results = face_mesh.process(image_rgb)\n",
    "            landmarks = extract_landmarks(results)\n",
    "\n",
    "            if landmarks is not None:\n",
    "                # Process landmarks as needed (e.g., normalization, flattening)\n",
    "                processed_landmarks = np.array(landmarks).flatten()\n",
    "\n",
    "                # Save the processed landmarks with the corresponding label\n",
    "                label = emotion  # Or convert emotion to a numerical label if needed\n",
    "                landmark_data.append((processed_landmarks, label))"
   ]
  },
  {
   "cell_type": "code",
   "execution_count": 45,
   "metadata": {},
   "outputs": [],
   "source": [
    "import pandas as pd\n",
    "\n",
    "data_for_df = []\n",
    "for features, label in landmark_data:\n",
    "    # Convert array of features to a list and append the label\n",
    "    feature_list = features.tolist()\n",
    "    feature_list.append(label)\n",
    "    data_for_df.append(feature_list)\n",
    "\n",
    "# Create DataFrame\n",
    "columns = [f'feature_{i}' for i in range(len(data_for_df[0]) - 1)] + ['label']\n",
    "landmark_df = pd.DataFrame(data_for_df, columns=columns)\n",
    "\n",
    "# Save to CSV\n",
    "landmark_df.to_csv('landmark_data.csv', index=False)"
   ]
  }
 ],
 "metadata": {
  "kernelspec": {
   "display_name": "Python 3",
   "language": "python",
   "name": "python3"
  },
  "language_info": {
   "codemirror_mode": {
    "name": "ipython",
    "version": 3
   },
   "file_extension": ".py",
   "mimetype": "text/x-python",
   "name": "python",
   "nbconvert_exporter": "python",
   "pygments_lexer": "ipython3",
   "version": "3.11.5"
  }
 },
 "nbformat": 4,
 "nbformat_minor": 2
}
