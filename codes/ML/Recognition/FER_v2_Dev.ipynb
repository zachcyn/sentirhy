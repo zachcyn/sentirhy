{
 "cells": [
  {
   "cell_type": "code",
   "execution_count": 1,
   "metadata": {},
   "outputs": [
    {
     "name": "stdout",
     "output_type": "stream",
     "text": [
      "WARNING:tensorflow:From d:\\Program Files (x86)\\Python\\Lib\\site-packages\\keras\\src\\losses.py:2976: The name tf.losses.sparse_softmax_cross_entropy is deprecated. Please use tf.compat.v1.losses.sparse_softmax_cross_entropy instead.\n",
      "\n"
     ]
    }
   ],
   "source": [
    "import os\n",
    "import numpy as np\n",
    "import pandas as pd\n",
    "import pickle\n",
    "import itertools\n",
    "import cv2\n",
    "from PIL import Image\n",
    "from pymongo import MongoClient\n",
    "from sklearn.model_selection import train_test_split\n",
    "import tensorflow as tf\n",
    "from tensorflow.keras.models import Sequential\n",
    "from sklearn.preprocessing import LabelEncoder\n",
    "from tensorflow.keras.layers import Conv2D, MaxPooling2D, Flatten, Dense, Dropout, BatchNormalization, Activation\n",
    "from tensorflow.keras.utils import to_categorical\n",
    "from keras_tuner import RandomSearch\n",
    "from sklearn.utils.class_weight import compute_class_weight\n",
    "from tensorflow.keras.preprocessing.image import ImageDataGenerator"
   ]
  },
  {
   "cell_type": "code",
   "execution_count": 2,
   "metadata": {},
   "outputs": [],
   "source": [
    "test_file_path = \"../../Dataset/FER2013/test\"\n",
    "train_file_path = \"../../Dataset/FER2013/train\""
   ]
  },
  {
   "cell_type": "code",
   "execution_count": 3,
   "metadata": {},
   "outputs": [],
   "source": [
    "def preprocess_image(image):\n",
    "    image = Image.fromarray(image.squeeze())  # Remove color channels for grayscale\n",
    "    image = image.resize((64, 64), Image.BILINEAR)  # Resize to 64x64\n",
    "    return np.expand_dims(np.array(image), axis=-1) "
   ]
  },
  {
   "cell_type": "code",
   "execution_count": 4,
   "metadata": {},
   "outputs": [],
   "source": [
    "augment_parameter = ImageDataGenerator(\n",
    "    rescale = 1./255,\n",
    "    preprocessing_function = preprocess_image,\n",
    "    rotation_range = 10,\n",
    "    width_shift_range = 0.1,\n",
    "    height_shift_range = 0.1,\n",
    "    shear_range = 0.1,\n",
    "    zoom_range = 0.1,\n",
    "    horizontal_flip = True,\n",
    "    fill_mode = 'nearest'\n",
    ")"
   ]
  },
  {
   "cell_type": "code",
   "execution_count": 5,
   "metadata": {},
   "outputs": [],
   "source": [
    "train_datagen = ImageDataGenerator(rescale=1./255, preprocessing_function=preprocess_image)\n",
    "test_datagen = ImageDataGenerator(rescale=1./255, preprocessing_function=preprocess_image)"
   ]
  },
  {
   "cell_type": "code",
   "execution_count": 11,
   "metadata": {},
   "outputs": [
    {
     "name": "stdout",
     "output_type": "stream",
     "text": [
      "Found 28709 images belonging to 7 classes.\n",
      "Found 7178 images belonging to 7 classes.\n"
     ]
    }
   ],
   "source": [
    "# train_generator = augment_parameter.flow_from_directory(\n",
    "#    train_file_path,\n",
    "#    target_size=(64, 64),  # or any size that your model expects\n",
    "#    batch_size=32,\n",
    "#    class_mode='categorical',\n",
    "#    color_mode='grayscale')\n",
    "\n",
    "train_generator = train_datagen.flow_from_directory(\n",
    "     train_file_path,\n",
    "     target_size=(64, 64),  # or any size that your model expects\n",
    "     batch_size=32,\n",
    "     class_mode='categorical',\n",
    "     color_mode='grayscale')\n",
    "\n",
    "test_generator = test_datagen.flow_from_directory(\n",
    "    test_file_path,\n",
    "    target_size=(64, 64),\n",
    "    batch_size=32,\n",
    "    class_mode='categorical',\n",
    "    color_mode='grayscale')\n"
   ]
  },
  {
   "cell_type": "code",
   "execution_count": 69,
   "metadata": {},
   "outputs": [],
   "source": [
    "def build_simplified_model(conv_1_filters, conv_2_filters, \n",
    "                           conv_1_kernel, conv_2_kernel,\n",
    "                           dropout_1, dropout_2, dense_units, optimizer):\n",
    "    model = Sequential()\n",
    "    model.add(Conv2D(conv_1_filters, kernel_size=conv_1_kernel, activation='relu', input_shape=(64,64,1)))\n",
    "    model.add(MaxPooling2D(pool_size=2))\n",
    "    model.add(Dropout(dropout_1))\n",
    "\n",
    "    model.add(Conv2D(conv_2_filters, kernel_size=conv_2_kernel, activation='relu'))\n",
    "    model.add(MaxPooling2D(pool_size=2))\n",
    "    model.add(Dropout(dropout_2))\n",
    "\n",
    "    model.add(Flatten())\n",
    "    model.add(Dense(dense_units, activation='relu'))\n",
    "    model.add(Dense(7, activation='softmax'))\n",
    "\n",
    "    model.compile(optimizer=optimizer, loss='categorical_crossentropy', metrics=['accuracy'])\n",
    "    return model"
   ]
  },
  {
   "cell_type": "code",
   "execution_count": 9,
   "metadata": {},
   "outputs": [],
   "source": [
    "from tensorflow.keras.callbacks import EarlyStopping\n",
    "\n",
    "early_stopping = EarlyStopping(monitor='val_accuracy', patience=5, verbose=1, restore_best_weights=True)"
   ]
  },
  {
   "cell_type": "markdown",
   "metadata": {},
   "source": [
    "# First Attempt"
   ]
  },
  {
   "cell_type": "code",
   "execution_count": 83,
   "metadata": {
    "scrolled": true
   },
   "outputs": [
    {
     "name": "stdout",
     "output_type": "stream",
     "text": [
      "Epoch 1/15\n",
      "898/898 [==============================] - 122s 135ms/step - loss: 1.7612 - accuracy: 0.2863 - val_loss: 1.7160 - val_accuracy: 0.3650\n",
      "Epoch 2/15\n",
      "898/898 [==============================] - 126s 141ms/step - loss: 1.6239 - accuracy: 0.3693 - val_loss: 1.6150 - val_accuracy: 0.4085\n",
      "Epoch 3/15\n",
      "898/898 [==============================] - 124s 138ms/step - loss: 1.5643 - accuracy: 0.3983 - val_loss: 1.5441 - val_accuracy: 0.4167\n",
      "Epoch 4/15\n",
      "898/898 [==============================] - 130s 144ms/step - loss: 1.5170 - accuracy: 0.4184 - val_loss: 1.4958 - val_accuracy: 0.4376\n",
      "Epoch 5/15\n",
      "898/898 [==============================] - 134s 149ms/step - loss: 1.4706 - accuracy: 0.4331 - val_loss: 1.4427 - val_accuracy: 0.4469\n",
      "Epoch 6/15\n",
      "898/898 [==============================] - 127s 142ms/step - loss: 1.4256 - accuracy: 0.4539 - val_loss: 1.3976 - val_accuracy: 0.4710\n",
      "Epoch 7/15\n",
      "898/898 [==============================] - 132s 147ms/step - loss: 1.3853 - accuracy: 0.4700 - val_loss: 1.3665 - val_accuracy: 0.4777\n",
      "Epoch 8/15\n",
      "898/898 [==============================] - 134s 150ms/step - loss: 1.3527 - accuracy: 0.4842 - val_loss: 1.3459 - val_accuracy: 0.4820\n",
      "Epoch 9/15\n",
      "898/898 [==============================] - 135s 150ms/step - loss: 1.3193 - accuracy: 0.4972 - val_loss: 1.3145 - val_accuracy: 0.5007\n",
      "Epoch 10/15\n",
      "898/898 [==============================] - 131s 146ms/step - loss: 1.2852 - accuracy: 0.5126 - val_loss: 1.3037 - val_accuracy: 0.5031\n",
      "Epoch 11/15\n",
      "898/898 [==============================] - 117s 130ms/step - loss: 1.2537 - accuracy: 0.5274 - val_loss: 1.2809 - val_accuracy: 0.5049\n",
      "Epoch 12/15\n",
      "898/898 [==============================] - 116s 130ms/step - loss: 1.2139 - accuracy: 0.5440 - val_loss: 1.2598 - val_accuracy: 0.5178\n",
      "Epoch 13/15\n",
      "898/898 [==============================] - 117s 130ms/step - loss: 1.1825 - accuracy: 0.5584 - val_loss: 1.2648 - val_accuracy: 0.5156\n",
      "Epoch 14/15\n",
      "898/898 [==============================] - 117s 130ms/step - loss: 1.1474 - accuracy: 0.5712 - val_loss: 1.2393 - val_accuracy: 0.5312\n",
      "Epoch 15/15\n",
      "898/898 [==============================] - 117s 130ms/step - loss: 1.1146 - accuracy: 0.5847 - val_loss: 1.2286 - val_accuracy: 0.5403\n"
     ]
    }
   ],
   "source": [
    "from tensorflow.keras.optimizers import Adam\n",
    "\n",
    "model_basic = build_simplified_model(\n",
    "    conv_1_filters=32, conv_2_filters=64, \n",
    "    conv_1_kernel=3, conv_2_kernel=3, \n",
    "    dropout_1=0.5, dropout_2=0.6, \n",
    "    dense_units=1024, \n",
    "    optimizer= Adam(learning_rate=0.0001) \n",
    ")\n",
    "\n",
    "history_v1 = model_basic.fit(train_generator, validation_data=test_generator, epochs=15, callbacks=[early_stopping])"
   ]
  },
  {
   "cell_type": "code",
   "execution_count": 76,
   "metadata": {},
   "outputs": [
    {
     "data": {
      "image/png": "[encoded data removed]",
      "text/plain": [
       "<Figure size 640x480 with 1 Axes>"
      ]
     },
     "metadata": {},
     "output_type": "display_data"
    },
    {
     "data": {
      "image/png": "[encoded data removed]",
      "text/plain": [
       "<Figure size 640x480 with 1 Axes>"
      ]
     },
     "metadata": {},
     "output_type": "display_data"
    }
   ],
   "source": [
    "import matplotlib.pyplot as plt\n",
    "\n",
    "# Plot training & validation accuracy values\n",
    "plt.plot(history_v1.history['accuracy'])\n",
    "plt.plot(history_v1.history['val_accuracy'])\n",
    "plt.title('Model accuracy')\n",
    "plt.ylabel('Accuracy')\n",
    "plt.xlabel('Epoch')\n",
    "plt.legend(['Train', 'Test'], loc='upper left')\n",
    "plt.show()\n",
    "\n",
    "# Plot training & validation loss values\n",
    "plt.plot(history_v1.history['loss'])\n",
    "plt.plot(history_v1.history['val_loss'])\n",
    "plt.title('Model loss')\n",
    "plt.ylabel('Loss')\n",
    "plt.xlabel('Epoch')\n",
    "plt.legend(['Train', 'Test'], loc='upper left')\n",
    "plt.show()"
   ]
  },
  {
   "cell_type": "code",
   "execution_count": 14,
   "metadata": {},
   "outputs": [],
   "source": [
    "def build_complex_model(conv_1_filters, conv_2_filters, \n",
    "                           conv_1_kernel, conv_2_kernel,\n",
    "                           dropout_1, dropout_2, dense_units, optimizer):\n",
    "    model = Sequential()\n",
    "    model.add(Conv2D(conv_1_filters, kernel_size=conv_1_kernel, activation='relu', input_shape=(64,64,1)))\n",
    "    model.add(MaxPooling2D(pool_size=2))\n",
    "    model.add(Dropout(dropout_1))\n",
    "\n",
    "    model.add(Conv2D(conv_1_filters, kernel_size=conv_1_kernel, activation='relu'))\n",
    "    model.add(MaxPooling2D(pool_size=2))\n",
    "    model.add(Dropout(dropout_1))\n",
    "\n",
    "    model.add(Conv2D(conv_2_filters, kernel_size=conv_2_kernel, activation='relu'))\n",
    "    model.add(MaxPooling2D(pool_size=2))\n",
    "    model.add(Dropout(dropout_2))\n",
    "\n",
    "    model.add(Flatten())\n",
    "    model.add(Dense(dense_units, activation='relu'))\n",
    "    model.add(Dense(7, activation='softmax'))\n",
    "\n",
    "    model.compile(optimizer=optimizer, loss='categorical_crossentropy', metrics=['accuracy'])\n",
    "    return model"
   ]
  },
  {
   "cell_type": "code",
   "execution_count": 15,
   "metadata": {},
   "outputs": [
    {
     "name": "stdout",
     "output_type": "stream",
     "text": [
      "Epoch 1/140\n",
      "898/898 [==============================] - 58s 63ms/step - loss: 1.8204 - accuracy: 0.2447 - val_loss: 1.8892 - val_accuracy: 0.2607\n",
      "Epoch 2/140\n",
      "898/898 [==============================] - 62s 69ms/step - loss: 1.7686 - accuracy: 0.2755 - val_loss: 1.8163 - val_accuracy: 0.2604\n",
      "Epoch 3/140\n",
      "898/898 [==============================] - 64s 71ms/step - loss: 1.7088 - accuracy: 0.3155 - val_loss: 1.7524 - val_accuracy: 0.3094\n",
      "Epoch 4/140\n",
      "898/898 [==============================] - 60s 67ms/step - loss: 1.6614 - accuracy: 0.3427 - val_loss: 1.6985 - val_accuracy: 0.3566\n",
      "Epoch 5/140\n",
      "898/898 [==============================] - 62s 69ms/step - loss: 1.6248 - accuracy: 0.3642 - val_loss: 1.6436 - val_accuracy: 0.3904\n",
      "Epoch 6/140\n",
      "898/898 [==============================] - 61s 68ms/step - loss: 1.5948 - accuracy: 0.3803 - val_loss: 1.6068 - val_accuracy: 0.3986\n",
      "Epoch 7/140\n",
      "898/898 [==============================] - 58s 64ms/step - loss: 1.5652 - accuracy: 0.3934 - val_loss: 1.5451 - val_accuracy: 0.4221\n",
      "Epoch 8/140\n",
      "898/898 [==============================] - 57s 64ms/step - loss: 1.5402 - accuracy: 0.4025 - val_loss: 1.5052 - val_accuracy: 0.4299\n",
      "Epoch 9/140\n",
      "898/898 [==============================] - 57s 64ms/step - loss: 1.5176 - accuracy: 0.4079 - val_loss: 1.4737 - val_accuracy: 0.4448\n",
      "Epoch 10/140\n",
      "898/898 [==============================] - 59s 66ms/step - loss: 1.4975 - accuracy: 0.4229 - val_loss: 1.4662 - val_accuracy: 0.4355\n",
      "Epoch 11/140\n",
      "898/898 [==============================] - 63s 70ms/step - loss: 1.4745 - accuracy: 0.4332 - val_loss: 1.4345 - val_accuracy: 0.4581\n",
      "Epoch 12/140\n",
      "898/898 [==============================] - 61s 67ms/step - loss: 1.4544 - accuracy: 0.4378 - val_loss: 1.4162 - val_accuracy: 0.4663\n",
      "Epoch 13/140\n",
      "898/898 [==============================] - 60s 67ms/step - loss: 1.4384 - accuracy: 0.4490 - val_loss: 1.3934 - val_accuracy: 0.4661\n",
      "Epoch 14/140\n",
      "898/898 [==============================] - 58s 65ms/step - loss: 1.4224 - accuracy: 0.4538 - val_loss: 1.3750 - val_accuracy: 0.4734\n",
      "Epoch 15/140\n",
      "898/898 [==============================] - 63s 70ms/step - loss: 1.4069 - accuracy: 0.4606 - val_loss: 1.3562 - val_accuracy: 0.4830\n",
      "Epoch 16/140\n",
      "898/898 [==============================] - 61s 68ms/step - loss: 1.3931 - accuracy: 0.4637 - val_loss: 1.3498 - val_accuracy: 0.4900\n",
      "Epoch 17/140\n",
      "898/898 [==============================] - 60s 67ms/step - loss: 1.3760 - accuracy: 0.4718 - val_loss: 1.3359 - val_accuracy: 0.4936\n",
      "Epoch 18/140\n",
      "898/898 [==============================] - 58s 65ms/step - loss: 1.3587 - accuracy: 0.4774 - val_loss: 1.3156 - val_accuracy: 0.4999\n",
      "Epoch 19/140\n",
      "898/898 [==============================] - 58s 64ms/step - loss: 1.3434 - accuracy: 0.4846 - val_loss: 1.3112 - val_accuracy: 0.5035\n",
      "Epoch 20/140\n",
      "898/898 [==============================] - 59s 66ms/step - loss: 1.3391 - accuracy: 0.4876 - val_loss: 1.2969 - val_accuracy: 0.5099\n",
      "Epoch 21/140\n",
      "898/898 [==============================] - 58s 64ms/step - loss: 1.3193 - accuracy: 0.4967 - val_loss: 1.2817 - val_accuracy: 0.5177\n",
      "Epoch 22/140\n",
      "898/898 [==============================] - 56s 62ms/step - loss: 1.3072 - accuracy: 0.5024 - val_loss: 1.2922 - val_accuracy: 0.5169\n",
      "Epoch 23/140\n",
      "898/898 [==============================] - 57s 63ms/step - loss: 1.2946 - accuracy: 0.5064 - val_loss: 1.2692 - val_accuracy: 0.5227\n",
      "Epoch 24/140\n",
      "898/898 [==============================] - 60s 67ms/step - loss: 1.2788 - accuracy: 0.5128 - val_loss: 1.2574 - val_accuracy: 0.5291\n",
      "Epoch 25/140\n",
      "898/898 [==============================] - 60s 66ms/step - loss: 1.2691 - accuracy: 0.5162 - val_loss: 1.2487 - val_accuracy: 0.5301\n",
      "Epoch 26/140\n",
      "898/898 [==============================] - 61s 68ms/step - loss: 1.2591 - accuracy: 0.5202 - val_loss: 1.2375 - val_accuracy: 0.5326\n",
      "Epoch 27/140\n",
      "898/898 [==============================] - 61s 67ms/step - loss: 1.2493 - accuracy: 0.5244 - val_loss: 1.2316 - val_accuracy: 0.5396\n",
      "Epoch 28/140\n",
      "898/898 [==============================] - 63s 70ms/step - loss: 1.2349 - accuracy: 0.5344 - val_loss: 1.2399 - val_accuracy: 0.5277\n",
      "Epoch 29/140\n",
      "898/898 [==============================] - 62s 69ms/step - loss: 1.2153 - accuracy: 0.5432 - val_loss: 1.2237 - val_accuracy: 0.5404\n",
      "Epoch 30/140\n",
      "898/898 [==============================] - 58s 64ms/step - loss: 1.2074 - accuracy: 0.5451 - val_loss: 1.2201 - val_accuracy: 0.5362\n",
      "Epoch 31/140\n",
      "898/898 [==============================] - 57s 63ms/step - loss: 1.1931 - accuracy: 0.5526 - val_loss: 1.2205 - val_accuracy: 0.5397\n",
      "Epoch 32/140\n",
      "898/898 [==============================] - 56s 63ms/step - loss: 1.1844 - accuracy: 0.5506 - val_loss: 1.2047 - val_accuracy: 0.5492\n",
      "Epoch 33/140\n",
      "898/898 [==============================] - 56s 62ms/step - loss: 1.1698 - accuracy: 0.5590 - val_loss: 1.2046 - val_accuracy: 0.5521\n",
      "Epoch 34/140\n",
      "898/898 [==============================] - 56s 63ms/step - loss: 1.1627 - accuracy: 0.5600 - val_loss: 1.2003 - val_accuracy: 0.5488\n",
      "Epoch 35/140\n",
      "898/898 [==============================] - 66s 73ms/step - loss: 1.1516 - accuracy: 0.5672 - val_loss: 1.2015 - val_accuracy: 0.5469\n",
      "Epoch 36/140\n",
      "898/898 [==============================] - 61s 68ms/step - loss: 1.1383 - accuracy: 0.5741 - val_loss: 1.1967 - val_accuracy: 0.5468\n",
      "Epoch 37/140\n",
      "898/898 [==============================] - 63s 70ms/step - loss: 1.1286 - accuracy: 0.5775 - val_loss: 1.1957 - val_accuracy: 0.5557\n",
      "Epoch 38/140\n",
      "898/898 [==============================] - 65s 72ms/step - loss: 1.1121 - accuracy: 0.5841 - val_loss: 1.1901 - val_accuracy: 0.5541\n",
      "Epoch 39/140\n",
      "898/898 [==============================] - 62s 69ms/step - loss: 1.1013 - accuracy: 0.5888 - val_loss: 1.1805 - val_accuracy: 0.5574\n",
      "Epoch 40/140\n",
      "898/898 [==============================] - 66s 73ms/step - loss: 1.0891 - accuracy: 0.5945 - val_loss: 1.1794 - val_accuracy: 0.5595\n",
      "Epoch 41/140\n",
      "898/898 [==============================] - 62s 69ms/step - loss: 1.0753 - accuracy: 0.5996 - val_loss: 1.1790 - val_accuracy: 0.5600\n",
      "Epoch 42/140\n",
      "898/898 [==============================] - 59s 66ms/step - loss: 1.0617 - accuracy: 0.6030 - val_loss: 1.1747 - val_accuracy: 0.5630\n",
      "Epoch 43/140\n",
      "898/898 [==============================] - 60s 67ms/step - loss: 1.0514 - accuracy: 0.6075 - val_loss: 1.1740 - val_accuracy: 0.5617\n",
      "Epoch 44/140\n",
      "898/898 [==============================] - 61s 68ms/step - loss: 1.0367 - accuracy: 0.6147 - val_loss: 1.1745 - val_accuracy: 0.5656\n",
      "Epoch 45/140\n",
      "898/898 [==============================] - 58s 65ms/step - loss: 1.0272 - accuracy: 0.6192 - val_loss: 1.1710 - val_accuracy: 0.5610\n",
      "Epoch 46/140\n",
      "898/898 [==============================] - 63s 70ms/step - loss: 1.0107 - accuracy: 0.6265 - val_loss: 1.1642 - val_accuracy: 0.5645\n",
      "Epoch 47/140\n",
      "898/898 [==============================] - 59s 65ms/step - loss: 0.9974 - accuracy: 0.6275 - val_loss: 1.1610 - val_accuracy: 0.5685\n",
      "Epoch 48/140\n",
      "898/898 [==============================] - 60s 67ms/step - loss: 0.9867 - accuracy: 0.6338 - val_loss: 1.1686 - val_accuracy: 0.5673\n",
      "Epoch 49/140\n",
      "898/898 [==============================] - 59s 66ms/step - loss: 0.9845 - accuracy: 0.6381 - val_loss: 1.1604 - val_accuracy: 0.5706\n",
      "Epoch 50/140\n",
      "898/898 [==============================] - 56s 63ms/step - loss: 0.9687 - accuracy: 0.6417 - val_loss: 1.1559 - val_accuracy: 0.5712\n",
      "Epoch 51/140\n",
      "898/898 [==============================] - 57s 63ms/step - loss: 0.9527 - accuracy: 0.6487 - val_loss: 1.1597 - val_accuracy: 0.5692\n",
      "Epoch 52/140\n",
      "898/898 [==============================] - 56s 63ms/step - loss: 0.9431 - accuracy: 0.6529 - val_loss: 1.1614 - val_accuracy: 0.5695\n",
      "Epoch 53/140\n",
      "898/898 [==============================] - 57s 64ms/step - loss: 0.9356 - accuracy: 0.6553 - val_loss: 1.1594 - val_accuracy: 0.5708\n",
      "Epoch 54/140\n",
      "898/898 [==============================] - 57s 64ms/step - loss: 0.9195 - accuracy: 0.6583 - val_loss: 1.1613 - val_accuracy: 0.5756\n",
      "Epoch 55/140\n",
      "898/898 [==============================] - 58s 65ms/step - loss: 0.9101 - accuracy: 0.6631 - val_loss: 1.1679 - val_accuracy: 0.5712\n",
      "Epoch 56/140\n",
      "898/898 [==============================] - 56s 62ms/step - loss: 0.8929 - accuracy: 0.6701 - val_loss: 1.1574 - val_accuracy: 0.5756\n",
      "Epoch 57/140\n",
      "898/898 [==============================] - 56s 63ms/step - loss: 0.8798 - accuracy: 0.6754 - val_loss: 1.1585 - val_accuracy: 0.5772\n",
      "Epoch 58/140\n",
      "898/898 [==============================] - 56s 62ms/step - loss: 0.8754 - accuracy: 0.6787 - val_loss: 1.1627 - val_accuracy: 0.5752\n",
      "Epoch 59/140\n",
      "898/898 [==============================] - 57s 64ms/step - loss: 0.8635 - accuracy: 0.6818 - val_loss: 1.1650 - val_accuracy: 0.5750\n",
      "Epoch 60/140\n",
      "898/898 [==============================] - 56s 62ms/step - loss: 0.8581 - accuracy: 0.6849 - val_loss: 1.1552 - val_accuracy: 0.5772\n",
      "Epoch 61/140\n",
      "898/898 [==============================] - 56s 63ms/step - loss: 0.8371 - accuracy: 0.6907 - val_loss: 1.1705 - val_accuracy: 0.5740\n",
      "Epoch 62/140\n",
      "898/898 [==============================] - ETA: 0s - loss: 0.8294 - accuracy: 0.6950Restoring model weights from the end of the best epoch: 57.\n",
      "898/898 [==============================] - 57s 64ms/step - loss: 0.8294 - accuracy: 0.6950 - val_loss: 1.1637 - val_accuracy: 0.5750\n",
      "Epoch 62: early stopping\n"
     ]
    }
   ],
   "source": [
    "from tensorflow.keras.optimizers import Adam\n",
    "\n",
    "model = build_complex_model(\n",
    "    conv_1_filters=32, conv_2_filters=64, \n",
    "    conv_1_kernel=3, conv_2_kernel=3, \n",
    "    dropout_1=0.5, dropout_2=0.6, \n",
    "    dense_units=1024, \n",
    "    optimizer= Adam(learning_rate=0.0001) \n",
    ")\n",
    "\n",
    "history_v1 = model.fit(train_generator, validation_data=test_generator, epochs=140, callbacks=[early_stopping])"
   ]
  },
  {
   "cell_type": "code",
   "execution_count": 16,
   "metadata": {},
   "outputs": [
    {
     "data": {
      "image/png": "[encoded data removed]",
      "text/plain": [
       "<Figure size 640x480 with 1 Axes>"
      ]
     },
     "metadata": {},
     "output_type": "display_data"
    },
    {
     "data": {
      "image/png": "[encoded data removed]",
      "text/plain": [
       "<Figure size 640x480 with 1 Axes>"
      ]
     },
     "metadata": {},
     "output_type": "display_data"
    }
   ],
   "source": [
    "import matplotlib.pyplot as plt\n",
    "\n",
    "# Plot training & validation accuracy values\n",
    "plt.plot(history_v1.history['accuracy'])\n",
    "plt.plot(history_v1.history['val_accuracy'])\n",
    "plt.title('Model accuracy')\n",
    "plt.ylabel('Accuracy')\n",
    "plt.xlabel('Epoch')\n",
    "plt.legend(['Train', 'Test'], loc='upper left')\n",
    "plt.show()\n",
    "\n",
    "# Plot training & validation loss values\n",
    "plt.plot(history_v1.history['loss'])\n",
    "plt.plot(history_v1.history['val_loss'])\n",
    "plt.title('Model loss')\n",
    "plt.ylabel('Loss')\n",
    "plt.xlabel('Epoch')\n",
    "plt.legend(['Train', 'Test'], loc='upper left')\n",
    "plt.show()"
   ]
  },
  {
   "cell_type": "markdown",
   "metadata": {},
   "source": [
    "# Second Attempt (with Class Weight)"
   ]
  },
  {
   "cell_type": "code",
   "execution_count": 130,
   "metadata": {},
   "outputs": [
    {
     "name": "stdout",
     "output_type": "stream",
     "text": [
      "Class Index: 0, Class Name: angry, Weight: 1.0266046844269623\n",
      "Class Index: 1, Class Name: disgust, Weight: 9.406618610747051\n",
      "Class Index: 2, Class Name: fear, Weight: 1.0010460615781582\n",
      "Class Index: 3, Class Name: happy, Weight: 0.5684387684387684\n",
      "Class Index: 4, Class Name: neutral, Weight: 0.8260394187886635\n",
      "Class Index: 5, Class Name: sad, Weight: 0.8491274770777877\n",
      "Class Index: 6, Class Name: surprise, Weight: 1.293372978330405\n"
     ]
    }
   ],
   "source": [
    "class_dirs = sorted([d for d in os.listdir(train_file_path) if os.path.isdir(os.path.join(train_file_path, d))])\n",
    "class_counts = {}\n",
    "\n",
    "# Count the number of samples in each class\n",
    "for class_dir in class_dirs:\n",
    "    class_path = os.path.join(train_file_path, class_dir)\n",
    "    class_counts[class_dir] = len(os.listdir(class_path))\n",
    "\n",
    "# Calculate total samples and class weights\n",
    "total_samples = sum(class_counts.values())\n",
    "class_weights = {class_idx: total_samples / (len(class_dirs) * count)\n",
    "                 for class_idx, count in enumerate(class_counts.values())}\n",
    "\n",
    "# Display the class weights with class names\n",
    "for class_idx, class_name in enumerate(class_dirs):\n",
    "    print(f\"Class Index: {class_idx}, Class Name: {class_name}, Weight: {class_weights[class_idx]}\")"
   ]
  },
  {
   "cell_type": "code",
   "execution_count": 135,
   "metadata": {},
   "outputs": [
    {
     "name": "stdout",
     "output_type": "stream",
     "text": [
      "Epoch 1/10\n"
     ]
    },
    {
     "name": "stderr",
     "output_type": "stream",
     "text": [
      "2023-12-30 07:00:22.231759: E tensorflow/core/grappler/optimizers/meta_optimizer.cc:961] layout failed: INVALID_ARGUMENT: Size of values 0 does not match size of permutation 4 @ fanin shape insequential_19/dropout_2/dropout/SelectV2-2-TransposeNHWCToNCHW-LayoutOptimizer\n",
      "2023-12-30 07:00:22.342730: I tensorflow/compiler/mlir/tensorflow/utils/dump_mlir_util.cc:269] disabling MLIR crash reproducer, set env var `MLIR_CRASH_REPRODUCER_DIRECTORY` to enable.\n"
     ]
    },
    {
     "name": "stdout",
     "output_type": "stream",
     "text": [
      "898/898 [==============================] - 18s 18ms/step - loss: 1.9529 - accuracy: 0.1263 - val_loss: 1.8975 - val_accuracy: 0.2144\n",
      "Epoch 2/10\n",
      "898/898 [==============================] - 17s 18ms/step - loss: 1.8875 - accuracy: 0.2211 - val_loss: 1.8431 - val_accuracy: 0.2749\n",
      "Epoch 3/10\n",
      "898/898 [==============================] - 17s 18ms/step - loss: 1.8573 - accuracy: 0.2345 - val_loss: 1.7365 - val_accuracy: 0.3441\n",
      "Epoch 4/10\n",
      "898/898 [==============================] - 17s 19ms/step - loss: 1.8361 - accuracy: 0.2558 - val_loss: 1.8605 - val_accuracy: 0.1946\n",
      "Epoch 5/10\n",
      "898/898 [==============================] - 17s 19ms/step - loss: 1.8078 - accuracy: 0.2692 - val_loss: 1.7138 - val_accuracy: 0.3643\n",
      "Epoch 6/10\n",
      "898/898 [==============================] - 17s 18ms/step - loss: 1.7867 - accuracy: 0.2857 - val_loss: 1.6990 - val_accuracy: 0.3551\n",
      "Epoch 7/10\n",
      "898/898 [==============================] - 18s 20ms/step - loss: 1.7619 - accuracy: 0.2962 - val_loss: 1.7120 - val_accuracy: 0.3303\n",
      "Epoch 8/10\n",
      "898/898 [==============================] - 17s 19ms/step - loss: 1.7415 - accuracy: 0.3080 - val_loss: 1.6763 - val_accuracy: 0.3532\n",
      "Epoch 9/10\n",
      "898/898 [==============================] - 17s 19ms/step - loss: 1.7221 - accuracy: 0.3243 - val_loss: 1.6745 - val_accuracy: 0.3548\n",
      "Epoch 10/10\n",
      "898/898 [==============================] - 17s 18ms/step - loss: 1.7121 - accuracy: 0.3302 - val_loss: 1.6646 - val_accuracy: 0.3504\n"
     ]
    }
   ],
   "source": [
    "model = build_simplified_model(\n",
    "    conv_1_filters=32, conv_2_filters=64, \n",
    "    conv_1_kernel=3, conv_2_kernel=3, \n",
    "    dropout_1=0.5, dropout_2=0.6, \n",
    "    dense_units=1024, \n",
    "    optimizer='adam'\n",
    ")\n",
    "\n",
    "history_v2 = model.fit(train_generator, validation_data=test_generator, epochs=10, class_weight=class_weights)"
   ]
  },
  {
   "cell_type": "markdown",
   "metadata": {},
   "source": [
    "Next attempt could try to change learning rate as the accuracy is slowing down which means going to plateau, more epochs also possible to see if accuracy improve further. Regularization, data augmentation could be tried as well. For more details, check GPU Training on GPT4."
   ]
  },
  {
   "cell_type": "markdown",
   "metadata": {},
   "source": [
    "# Third Attempt (with Class Weight, more Epochs, Early Stopping and Learning Rate adjusted)"
   ]
  },
  {
   "cell_type": "code",
   "execution_count": null,
   "metadata": {},
   "outputs": [],
   "source": [
    "from tensorflow.keras.optimizers import Adam\n",
    "\n",
    "model = build_simplified_model(\n",
    "    conv_1_filters=32, conv_2_filters=64, \n",
    "    conv_1_kernel=3, conv_2_kernel=3, \n",
    "    dropout_1=0.5, dropout_2=0.6, \n",
    "    dense_units=1024, \n",
    "    optimizer= Adam(learning_rate=0.0005) \n",
    ")\n",
    "\n",
    "\n",
    "history_v2 = model.fit(train_generator, validation_data=test_generator, epochs=20, class_weight=class_weights, callbacks=[early_stopping])"
   ]
  },
  {
   "cell_type": "code",
   "execution_count": null,
   "metadata": {},
   "outputs": [],
   "source": [
    "import matplotlib.pyplot as plt\n",
    "\n",
    "# Plot training & validation accuracy values\n",
    "plt.plot(history.history['accuracy'])\n",
    "plt.plot(history.history['val_accuracy'])\n",
    "plt.title('Model accuracy')\n",
    "plt.ylabel('Accuracy')\n",
    "plt.xlabel('Epoch')\n",
    "plt.legend(['Train', 'Test'], loc='upper left')\n",
    "plt.show()\n",
    "\n",
    "# Plot training & validation loss values\n",
    "plt.plot(history.history['loss'])\n",
    "plt.plot(history.history['val_loss'])\n",
    "plt.title('Model loss')\n",
    "plt.ylabel('Loss')\n",
    "plt.xlabel('Epoch')\n",
    "plt.legend(['Train', 'Test'], loc='upper left')\n",
    "plt.show()\n"
   ]
  },
  {
   "cell_type": "markdown",
   "metadata": {},
   "source": [
    "# Fourth Attempt (SGD optimizer)"
   ]
  },
  {
   "cell_type": "code",
   "execution_count": 132,
   "metadata": {},
   "outputs": [
    {
     "name": "stdout",
     "output_type": "stream",
     "text": [
      "Model: \"sequential_18\"\n",
      "_________________________________________________________________\n",
      " Layer (type)                Output Shape              Param #   \n",
      "=================================================================\n",
      " conv2d_274 (Conv2D)         (None, 32, 32, 32)        2080      \n",
      "                                                                 \n",
      " batch_normalization_272 (B  (None, 32, 32, 32)        128       \n",
      " atchNormalization)                                              \n",
      "                                                                 \n",
      " activation_272 (Activation  (None, 32, 32, 32)        0         \n",
      " )                                                               \n",
      "                                                                 \n",
      " conv2d_275 (Conv2D)         (None, 16, 16, 32)        65568     \n",
      "                                                                 \n",
      " batch_normalization_273 (B  (None, 16, 16, 32)        128       \n",
      " atchNormalization)                                              \n",
      "                                                                 \n",
      " activation_273 (Activation  (None, 16, 16, 32)        0         \n",
      " )                                                               \n",
      "                                                                 \n",
      " conv2d_276 (Conv2D)         (None, 8, 8, 32)          65568     \n",
      "                                                                 \n",
      " batch_normalization_274 (B  (None, 8, 8, 32)          128       \n",
      " atchNormalization)                                              \n",
      "                                                                 \n",
      " activation_274 (Activation  (None, 8, 8, 32)          0         \n",
      " )                                                               \n",
      "                                                                 \n",
      " conv2d_277 (Conv2D)         (None, 4, 4, 32)          65568     \n",
      "                                                                 \n",
      " batch_normalization_275 (B  (None, 4, 4, 32)          128       \n",
      " atchNormalization)                                              \n",
      "                                                                 \n",
      " activation_275 (Activation  (None, 4, 4, 32)          0         \n",
      " )                                                               \n",
      "                                                                 \n",
      " conv2d_278 (Conv2D)         (None, 2, 2, 32)          65568     \n",
      "                                                                 \n",
      " batch_normalization_276 (B  (None, 2, 2, 32)          128       \n",
      " atchNormalization)                                              \n",
      "                                                                 \n",
      " activation_276 (Activation  (None, 2, 2, 32)          0         \n",
      " )                                                               \n",
      "                                                                 \n",
      " conv2d_279 (Conv2D)         (None, 1, 1, 32)          65568     \n",
      "                                                                 \n",
      " batch_normalization_277 (B  (None, 1, 1, 32)          128       \n",
      " atchNormalization)                                              \n",
      "                                                                 \n",
      " activation_277 (Activation  (None, 1, 1, 32)          0         \n",
      " )                                                               \n",
      "                                                                 \n",
      " conv2d_280 (Conv2D)         (None, 1, 1, 32)          65568     \n",
      "                                                                 \n",
      " batch_normalization_278 (B  (None, 1, 1, 32)          128       \n",
      " atchNormalization)                                              \n",
      "                                                                 \n",
      " activation_278 (Activation  (None, 1, 1, 32)          0         \n",
      " )                                                               \n",
      "                                                                 \n",
      " conv2d_281 (Conv2D)         (None, 1, 1, 32)          65568     \n",
      "                                                                 \n",
      " batch_normalization_279 (B  (None, 1, 1, 32)          128       \n",
      " atchNormalization)                                              \n",
      "                                                                 \n",
      " activation_279 (Activation  (None, 1, 1, 32)          0         \n",
      " )                                                               \n",
      "                                                                 \n",
      " conv2d_282 (Conv2D)         (None, 1, 1, 32)          65568     \n",
      "                                                                 \n",
      " batch_normalization_280 (B  (None, 1, 1, 32)          128       \n",
      " atchNormalization)                                              \n",
      "                                                                 \n",
      " activation_280 (Activation  (None, 1, 1, 32)          0         \n",
      " )                                                               \n",
      "                                                                 \n",
      " conv2d_283 (Conv2D)         (None, 1, 1, 32)          65568     \n",
      "                                                                 \n",
      " batch_normalization_281 (B  (None, 1, 1, 32)          128       \n",
      " atchNormalization)                                              \n",
      "                                                                 \n",
      " activation_281 (Activation  (None, 1, 1, 32)          0         \n",
      " )                                                               \n",
      "                                                                 \n",
      " conv2d_284 (Conv2D)         (None, 1, 1, 32)          65568     \n",
      "                                                                 \n",
      " batch_normalization_282 (B  (None, 1, 1, 32)          128       \n",
      " atchNormalization)                                              \n",
      "                                                                 \n",
      " activation_282 (Activation  (None, 1, 1, 32)          0         \n",
      " )                                                               \n",
      "                                                                 \n",
      " conv2d_285 (Conv2D)         (None, 1, 1, 32)          65568     \n",
      "                                                                 \n",
      " batch_normalization_283 (B  (None, 1, 1, 32)          128       \n",
      " atchNormalization)                                              \n",
      "                                                                 \n",
      " activation_283 (Activation  (None, 1, 1, 32)          0         \n",
      " )                                                               \n",
      "                                                                 \n",
      " conv2d_286 (Conv2D)         (None, 1, 1, 32)          65568     \n",
      "                                                                 \n",
      " batch_normalization_284 (B  (None, 1, 1, 32)          128       \n",
      " atchNormalization)                                              \n",
      "                                                                 \n",
      " activation_284 (Activation  (None, 1, 1, 32)          0         \n",
      " )                                                               \n",
      "                                                                 \n",
      " conv2d_287 (Conv2D)         (None, 1, 1, 32)          65568     \n",
      "                                                                 \n",
      " batch_normalization_285 (B  (None, 1, 1, 32)          128       \n",
      " atchNormalization)                                              \n",
      "                                                                 \n",
      " activation_285 (Activation  (None, 1, 1, 32)          0         \n",
      " )                                                               \n",
      "                                                                 \n",
      " conv2d_288 (Conv2D)         (None, 1, 1, 32)          65568     \n",
      "                                                                 \n",
      " batch_normalization_286 (B  (None, 1, 1, 32)          128       \n",
      " atchNormalization)                                              \n",
      "                                                                 \n",
      " activation_286 (Activation  (None, 1, 1, 32)          0         \n",
      " )                                                               \n",
      "                                                                 \n",
      " conv2d_289 (Conv2D)         (None, 1, 1, 7)           10983     \n",
      "                                                                 \n",
      " batch_normalization_287 (B  (None, 1, 1, 7)           28        \n",
      " atchNormalization)                                              \n",
      "                                                                 \n",
      " activation_287 (Activation  (None, 1, 1, 7)           0         \n",
      " )                                                               \n",
      "                                                                 \n",
      " flatten_18 (Flatten)        (None, 7)                 0         \n",
      "                                                                 \n",
      " dense_19 (Dense)            (None, 7)                 56        \n",
      "                                                                 \n",
      "=================================================================\n",
      "Total params: 933019 (3.56 MB)\n",
      "Trainable params: 932045 (3.56 MB)\n",
      "Non-trainable params: 974 (3.80 KB)\n",
      "_________________________________________________________________\n"
     ]
    }
   ],
   "source": [
    "from tensorflow.keras.models import Sequential\n",
    "from tensorflow.keras.layers import Conv2D, BatchNormalization, Activation, Flatten, Dense\n",
    "from tensorflow.keras.optimizers import SGD\n",
    "\n",
    "def build_model_1():\n",
    "    model = Sequential()\n",
    "\n",
    "    # Add the first convolutional layer with input shape\n",
    "    model.add(Conv2D(32, kernel_size=(8, 8), strides=(2, 2), padding='same', input_shape=(64, 64, 1)))\n",
    "    model.add(BatchNormalization())\n",
    "    model.add(Activation('relu'))\n",
    "\n",
    "    # Add the remaining convolutional layers\n",
    "    for _ in range(14):  # one less because we already added the first layer\n",
    "        model.add(Conv2D(32, kernel_size=(8, 8), strides=(2, 2), padding='same'))\n",
    "        model.add(BatchNormalization())\n",
    "        model.add(Activation('relu'))\n",
    "\n",
    "    # Last Convolutional layer with 7 filters\n",
    "    model.add(Conv2D(7, kernel_size=(7, 7), strides=(1, 1), padding='same'))\n",
    "    model.add(BatchNormalization())\n",
    "    model.add(Activation('relu'))\n",
    "\n",
    "    # Flatten and add Softmax output layer\n",
    "    model.add(Flatten())\n",
    "    model.add(Dense(7, activation='softmax'))\n",
    "\n",
    "    return model\n",
    "\n",
    "# Build the model\n",
    "model_1 = build_model_1()\n",
    "\n",
    "# Compile the model\n",
    "model_1.compile(optimizer=SGD(), loss='categorical_crossentropy', metrics=['accuracy'])\n",
    "\n",
    "# Now you can call model.summary()\n",
    "model_1.summary()\n"
   ]
  },
  {
   "cell_type": "code",
   "execution_count": 133,
   "metadata": {},
   "outputs": [
    {
     "name": "stdout",
     "output_type": "stream",
     "text": [
      "Epoch 1/140\n",
      "898/898 [==============================] - 21s 20ms/step - loss: 1.8354 - accuracy: 0.2454 - val_loss: 1.7859 - val_accuracy: 0.2686\n",
      "Epoch 2/140\n",
      "898/898 [==============================] - 19s 21ms/step - loss: 1.7793 - accuracy: 0.2743 - val_loss: 1.7316 - val_accuracy: 0.2926\n",
      "Epoch 3/140\n",
      "338/898 [==========>...................] - ETA: 11s - loss: 1.7621 - accuracy: 0.2873"
     ]
    },
    {
     "ename": "KeyboardInterrupt",
     "evalue": "",
     "output_type": "error",
     "traceback": [
      "\u001b[0;31m---------------------------------------------------------------------------\u001b[0m",
      "\u001b[0;31mKeyboardInterrupt\u001b[0m                         Traceback (most recent call last)",
      "Cell \u001b[0;32mIn[133], line 1\u001b[0m\n\u001b[0;32m----> 1\u001b[0m history \u001b[38;5;241m=\u001b[39m \u001b[43mmodel_1\u001b[49m\u001b[38;5;241;43m.\u001b[39;49m\u001b[43mfit\u001b[49m\u001b[43m(\u001b[49m\n\u001b[1;32m      2\u001b[0m \u001b[43m    \u001b[49m\u001b[43mtrain_generator\u001b[49m\u001b[43m,\u001b[49m\n\u001b[1;32m      3\u001b[0m \u001b[43m    \u001b[49m\u001b[43mepochs\u001b[49m\u001b[38;5;241;43m=\u001b[39;49m\u001b[38;5;241;43m140\u001b[39;49m\u001b[43m,\u001b[49m\n\u001b[1;32m      4\u001b[0m \u001b[43m    \u001b[49m\u001b[43mvalidation_data\u001b[49m\u001b[38;5;241;43m=\u001b[39;49m\u001b[43mtest_generator\u001b[49m\u001b[43m,\u001b[49m\n\u001b[1;32m      5\u001b[0m \u001b[43m    \u001b[49m\u001b[43mcallbacks\u001b[49m\u001b[38;5;241;43m=\u001b[39;49m\u001b[43m[\u001b[49m\u001b[43mearly_stopping\u001b[49m\u001b[43m]\u001b[49m\u001b[43m,\u001b[49m\n\u001b[1;32m      6\u001b[0m \u001b[43m    \u001b[49m\u001b[38;5;66;43;03m# class_weight=class_weights\u001b[39;49;00m\n\u001b[1;32m      7\u001b[0m \u001b[43m)\u001b[49m\n",
      "File \u001b[0;32m~/.local/lib/python3.10/site-packages/keras/src/utils/traceback_utils.py:65\u001b[0m, in \u001b[0;36mfilter_traceback.<locals>.error_handler\u001b[0;34m(*args, **kwargs)\u001b[0m\n\u001b[1;32m     63\u001b[0m filtered_tb \u001b[38;5;241m=\u001b[39m \u001b[38;5;28;01mNone\u001b[39;00m\n\u001b[1;32m     64\u001b[0m \u001b[38;5;28;01mtry\u001b[39;00m:\n\u001b[0;32m---> 65\u001b[0m     \u001b[38;5;28;01mreturn\u001b[39;00m \u001b[43mfn\u001b[49m\u001b[43m(\u001b[49m\u001b[38;5;241;43m*\u001b[39;49m\u001b[43margs\u001b[49m\u001b[43m,\u001b[49m\u001b[43m \u001b[49m\u001b[38;5;241;43m*\u001b[39;49m\u001b[38;5;241;43m*\u001b[39;49m\u001b[43mkwargs\u001b[49m\u001b[43m)\u001b[49m\n\u001b[1;32m     66\u001b[0m \u001b[38;5;28;01mexcept\u001b[39;00m \u001b[38;5;167;01mException\u001b[39;00m \u001b[38;5;28;01mas\u001b[39;00m e:\n\u001b[1;32m     67\u001b[0m     filtered_tb \u001b[38;5;241m=\u001b[39m _process_traceback_frames(e\u001b[38;5;241m.\u001b[39m__traceback__)\n",
      "File \u001b[0;32m~/.local/lib/python3.10/site-packages/keras/src/engine/training.py:1807\u001b[0m, in \u001b[0;36mModel.fit\u001b[0;34m(self, x, y, batch_size, epochs, verbose, callbacks, validation_split, validation_data, shuffle, class_weight, sample_weight, initial_epoch, steps_per_epoch, validation_steps, validation_batch_size, validation_freq, max_queue_size, workers, use_multiprocessing)\u001b[0m\n\u001b[1;32m   1799\u001b[0m \u001b[38;5;28;01mwith\u001b[39;00m tf\u001b[38;5;241m.\u001b[39mprofiler\u001b[38;5;241m.\u001b[39mexperimental\u001b[38;5;241m.\u001b[39mTrace(\n\u001b[1;32m   1800\u001b[0m     \u001b[38;5;124m\"\u001b[39m\u001b[38;5;124mtrain\u001b[39m\u001b[38;5;124m\"\u001b[39m,\n\u001b[1;32m   1801\u001b[0m     epoch_num\u001b[38;5;241m=\u001b[39mepoch,\n\u001b[0;32m   (...)\u001b[0m\n\u001b[1;32m   1804\u001b[0m     _r\u001b[38;5;241m=\u001b[39m\u001b[38;5;241m1\u001b[39m,\n\u001b[1;32m   1805\u001b[0m ):\n\u001b[1;32m   1806\u001b[0m     callbacks\u001b[38;5;241m.\u001b[39mon_train_batch_begin(step)\n\u001b[0;32m-> 1807\u001b[0m     tmp_logs \u001b[38;5;241m=\u001b[39m \u001b[38;5;28;43mself\u001b[39;49m\u001b[38;5;241;43m.\u001b[39;49m\u001b[43mtrain_function\u001b[49m\u001b[43m(\u001b[49m\u001b[43miterator\u001b[49m\u001b[43m)\u001b[49m\n\u001b[1;32m   1808\u001b[0m     \u001b[38;5;28;01mif\u001b[39;00m data_handler\u001b[38;5;241m.\u001b[39mshould_sync:\n\u001b[1;32m   1809\u001b[0m         context\u001b[38;5;241m.\u001b[39masync_wait()\n",
      "File \u001b[0;32m~/.local/lib/python3.10/site-packages/tensorflow/python/util/traceback_utils.py:150\u001b[0m, in \u001b[0;36mfilter_traceback.<locals>.error_handler\u001b[0;34m(*args, **kwargs)\u001b[0m\n\u001b[1;32m    148\u001b[0m filtered_tb \u001b[38;5;241m=\u001b[39m \u001b[38;5;28;01mNone\u001b[39;00m\n\u001b[1;32m    149\u001b[0m \u001b[38;5;28;01mtry\u001b[39;00m:\n\u001b[0;32m--> 150\u001b[0m   \u001b[38;5;28;01mreturn\u001b[39;00m \u001b[43mfn\u001b[49m\u001b[43m(\u001b[49m\u001b[38;5;241;43m*\u001b[39;49m\u001b[43margs\u001b[49m\u001b[43m,\u001b[49m\u001b[43m \u001b[49m\u001b[38;5;241;43m*\u001b[39;49m\u001b[38;5;241;43m*\u001b[39;49m\u001b[43mkwargs\u001b[49m\u001b[43m)\u001b[49m\n\u001b[1;32m    151\u001b[0m \u001b[38;5;28;01mexcept\u001b[39;00m \u001b[38;5;167;01mException\u001b[39;00m \u001b[38;5;28;01mas\u001b[39;00m e:\n\u001b[1;32m    152\u001b[0m   filtered_tb \u001b[38;5;241m=\u001b[39m _process_traceback_frames(e\u001b[38;5;241m.\u001b[39m__traceback__)\n",
      "File \u001b[0;32m~/.local/lib/python3.10/site-packages/tensorflow/python/eager/polymorphic_function/polymorphic_function.py:832\u001b[0m, in \u001b[0;36mFunction.__call__\u001b[0;34m(self, *args, **kwds)\u001b[0m\n\u001b[1;32m    829\u001b[0m compiler \u001b[38;5;241m=\u001b[39m \u001b[38;5;124m\"\u001b[39m\u001b[38;5;124mxla\u001b[39m\u001b[38;5;124m\"\u001b[39m \u001b[38;5;28;01mif\u001b[39;00m \u001b[38;5;28mself\u001b[39m\u001b[38;5;241m.\u001b[39m_jit_compile \u001b[38;5;28;01melse\u001b[39;00m \u001b[38;5;124m\"\u001b[39m\u001b[38;5;124mnonXla\u001b[39m\u001b[38;5;124m\"\u001b[39m\n\u001b[1;32m    831\u001b[0m \u001b[38;5;28;01mwith\u001b[39;00m OptionalXlaContext(\u001b[38;5;28mself\u001b[39m\u001b[38;5;241m.\u001b[39m_jit_compile):\n\u001b[0;32m--> 832\u001b[0m   result \u001b[38;5;241m=\u001b[39m \u001b[38;5;28;43mself\u001b[39;49m\u001b[38;5;241;43m.\u001b[39;49m\u001b[43m_call\u001b[49m\u001b[43m(\u001b[49m\u001b[38;5;241;43m*\u001b[39;49m\u001b[43margs\u001b[49m\u001b[43m,\u001b[49m\u001b[43m \u001b[49m\u001b[38;5;241;43m*\u001b[39;49m\u001b[38;5;241;43m*\u001b[39;49m\u001b[43mkwds\u001b[49m\u001b[43m)\u001b[49m\n\u001b[1;32m    834\u001b[0m new_tracing_count \u001b[38;5;241m=\u001b[39m \u001b[38;5;28mself\u001b[39m\u001b[38;5;241m.\u001b[39mexperimental_get_tracing_count()\n\u001b[1;32m    835\u001b[0m without_tracing \u001b[38;5;241m=\u001b[39m (tracing_count \u001b[38;5;241m==\u001b[39m new_tracing_count)\n",
      "File \u001b[0;32m~/.local/lib/python3.10/site-packages/tensorflow/python/eager/polymorphic_function/polymorphic_function.py:868\u001b[0m, in \u001b[0;36mFunction._call\u001b[0;34m(self, *args, **kwds)\u001b[0m\n\u001b[1;32m    865\u001b[0m   \u001b[38;5;28mself\u001b[39m\u001b[38;5;241m.\u001b[39m_lock\u001b[38;5;241m.\u001b[39mrelease()\n\u001b[1;32m    866\u001b[0m   \u001b[38;5;66;03m# In this case we have created variables on the first call, so we run the\u001b[39;00m\n\u001b[1;32m    867\u001b[0m   \u001b[38;5;66;03m# defunned version which is guaranteed to never create variables.\u001b[39;00m\n\u001b[0;32m--> 868\u001b[0m   \u001b[38;5;28;01mreturn\u001b[39;00m \u001b[43mtracing_compilation\u001b[49m\u001b[38;5;241;43m.\u001b[39;49m\u001b[43mcall_function\u001b[49m\u001b[43m(\u001b[49m\n\u001b[1;32m    869\u001b[0m \u001b[43m      \u001b[49m\u001b[43margs\u001b[49m\u001b[43m,\u001b[49m\u001b[43m \u001b[49m\u001b[43mkwds\u001b[49m\u001b[43m,\u001b[49m\u001b[43m \u001b[49m\u001b[38;5;28;43mself\u001b[39;49m\u001b[38;5;241;43m.\u001b[39;49m\u001b[43m_no_variable_creation_config\u001b[49m\n\u001b[1;32m    870\u001b[0m \u001b[43m  \u001b[49m\u001b[43m)\u001b[49m\n\u001b[1;32m    871\u001b[0m \u001b[38;5;28;01melif\u001b[39;00m \u001b[38;5;28mself\u001b[39m\u001b[38;5;241m.\u001b[39m_variable_creation_config \u001b[38;5;129;01mis\u001b[39;00m \u001b[38;5;129;01mnot\u001b[39;00m \u001b[38;5;28;01mNone\u001b[39;00m:\n\u001b[1;32m    872\u001b[0m   \u001b[38;5;66;03m# Release the lock early so that multiple threads can perform the call\u001b[39;00m\n\u001b[1;32m    873\u001b[0m   \u001b[38;5;66;03m# in parallel.\u001b[39;00m\n\u001b[1;32m    874\u001b[0m   \u001b[38;5;28mself\u001b[39m\u001b[38;5;241m.\u001b[39m_lock\u001b[38;5;241m.\u001b[39mrelease()\n",
      "File \u001b[0;32m~/.local/lib/python3.10/site-packages/tensorflow/python/eager/polymorphic_function/tracing_compilation.py:139\u001b[0m, in \u001b[0;36mcall_function\u001b[0;34m(args, kwargs, tracing_options)\u001b[0m\n\u001b[1;32m    137\u001b[0m bound_args \u001b[38;5;241m=\u001b[39m function\u001b[38;5;241m.\u001b[39mfunction_type\u001b[38;5;241m.\u001b[39mbind(\u001b[38;5;241m*\u001b[39margs, \u001b[38;5;241m*\u001b[39m\u001b[38;5;241m*\u001b[39mkwargs)\n\u001b[1;32m    138\u001b[0m flat_inputs \u001b[38;5;241m=\u001b[39m function\u001b[38;5;241m.\u001b[39mfunction_type\u001b[38;5;241m.\u001b[39munpack_inputs(bound_args)\n\u001b[0;32m--> 139\u001b[0m \u001b[38;5;28;01mreturn\u001b[39;00m \u001b[43mfunction\u001b[49m\u001b[38;5;241;43m.\u001b[39;49m\u001b[43m_call_flat\u001b[49m\u001b[43m(\u001b[49m\u001b[43m  \u001b[49m\u001b[38;5;66;43;03m# pylint: disable=protected-access\u001b[39;49;00m\n\u001b[1;32m    140\u001b[0m \u001b[43m    \u001b[49m\u001b[43mflat_inputs\u001b[49m\u001b[43m,\u001b[49m\u001b[43m \u001b[49m\u001b[43mcaptured_inputs\u001b[49m\u001b[38;5;241;43m=\u001b[39;49m\u001b[43mfunction\u001b[49m\u001b[38;5;241;43m.\u001b[39;49m\u001b[43mcaptured_inputs\u001b[49m\n\u001b[1;32m    141\u001b[0m \u001b[43m\u001b[49m\u001b[43m)\u001b[49m\n",
      "File \u001b[0;32m~/.local/lib/python3.10/site-packages/tensorflow/python/eager/polymorphic_function/concrete_function.py:1323\u001b[0m, in \u001b[0;36mConcreteFunction._call_flat\u001b[0;34m(self, tensor_inputs, captured_inputs)\u001b[0m\n\u001b[1;32m   1319\u001b[0m possible_gradient_type \u001b[38;5;241m=\u001b[39m gradients_util\u001b[38;5;241m.\u001b[39mPossibleTapeGradientTypes(args)\n\u001b[1;32m   1320\u001b[0m \u001b[38;5;28;01mif\u001b[39;00m (possible_gradient_type \u001b[38;5;241m==\u001b[39m gradients_util\u001b[38;5;241m.\u001b[39mPOSSIBLE_GRADIENT_TYPES_NONE\n\u001b[1;32m   1321\u001b[0m     \u001b[38;5;129;01mand\u001b[39;00m executing_eagerly):\n\u001b[1;32m   1322\u001b[0m   \u001b[38;5;66;03m# No tape is watching; skip to running the function.\u001b[39;00m\n\u001b[0;32m-> 1323\u001b[0m   \u001b[38;5;28;01mreturn\u001b[39;00m \u001b[38;5;28;43mself\u001b[39;49m\u001b[38;5;241;43m.\u001b[39;49m\u001b[43m_inference_function\u001b[49m\u001b[38;5;241;43m.\u001b[39;49m\u001b[43mcall_preflattened\u001b[49m\u001b[43m(\u001b[49m\u001b[43margs\u001b[49m\u001b[43m)\u001b[49m\n\u001b[1;32m   1324\u001b[0m forward_backward \u001b[38;5;241m=\u001b[39m \u001b[38;5;28mself\u001b[39m\u001b[38;5;241m.\u001b[39m_select_forward_and_backward_functions(\n\u001b[1;32m   1325\u001b[0m     args,\n\u001b[1;32m   1326\u001b[0m     possible_gradient_type,\n\u001b[1;32m   1327\u001b[0m     executing_eagerly)\n\u001b[1;32m   1328\u001b[0m forward_function, args_with_tangents \u001b[38;5;241m=\u001b[39m forward_backward\u001b[38;5;241m.\u001b[39mforward()\n",
      "File \u001b[0;32m~/.local/lib/python3.10/site-packages/tensorflow/python/eager/polymorphic_function/atomic_function.py:216\u001b[0m, in \u001b[0;36mAtomicFunction.call_preflattened\u001b[0;34m(self, args)\u001b[0m\n\u001b[1;32m    214\u001b[0m \u001b[38;5;28;01mdef\u001b[39;00m \u001b[38;5;21mcall_preflattened\u001b[39m(\u001b[38;5;28mself\u001b[39m, args: Sequence[core\u001b[38;5;241m.\u001b[39mTensor]) \u001b[38;5;241m-\u001b[39m\u001b[38;5;241m>\u001b[39m Any:\n\u001b[1;32m    215\u001b[0m \u001b[38;5;250m  \u001b[39m\u001b[38;5;124;03m\"\"\"Calls with flattened tensor inputs and returns the structured output.\"\"\"\u001b[39;00m\n\u001b[0;32m--> 216\u001b[0m   flat_outputs \u001b[38;5;241m=\u001b[39m \u001b[38;5;28;43mself\u001b[39;49m\u001b[38;5;241;43m.\u001b[39;49m\u001b[43mcall_flat\u001b[49m\u001b[43m(\u001b[49m\u001b[38;5;241;43m*\u001b[39;49m\u001b[43margs\u001b[49m\u001b[43m)\u001b[49m\n\u001b[1;32m    217\u001b[0m   \u001b[38;5;28;01mreturn\u001b[39;00m \u001b[38;5;28mself\u001b[39m\u001b[38;5;241m.\u001b[39mfunction_type\u001b[38;5;241m.\u001b[39mpack_output(flat_outputs)\n",
      "File \u001b[0;32m~/.local/lib/python3.10/site-packages/tensorflow/python/eager/polymorphic_function/atomic_function.py:251\u001b[0m, in \u001b[0;36mAtomicFunction.call_flat\u001b[0;34m(self, *args)\u001b[0m\n\u001b[1;32m    249\u001b[0m \u001b[38;5;28;01mwith\u001b[39;00m record\u001b[38;5;241m.\u001b[39mstop_recording():\n\u001b[1;32m    250\u001b[0m   \u001b[38;5;28;01mif\u001b[39;00m \u001b[38;5;28mself\u001b[39m\u001b[38;5;241m.\u001b[39m_bound_context\u001b[38;5;241m.\u001b[39mexecuting_eagerly():\n\u001b[0;32m--> 251\u001b[0m     outputs \u001b[38;5;241m=\u001b[39m \u001b[38;5;28;43mself\u001b[39;49m\u001b[38;5;241;43m.\u001b[39;49m\u001b[43m_bound_context\u001b[49m\u001b[38;5;241;43m.\u001b[39;49m\u001b[43mcall_function\u001b[49m\u001b[43m(\u001b[49m\n\u001b[1;32m    252\u001b[0m \u001b[43m        \u001b[49m\u001b[38;5;28;43mself\u001b[39;49m\u001b[38;5;241;43m.\u001b[39;49m\u001b[43mname\u001b[49m\u001b[43m,\u001b[49m\n\u001b[1;32m    253\u001b[0m \u001b[43m        \u001b[49m\u001b[38;5;28;43mlist\u001b[39;49m\u001b[43m(\u001b[49m\u001b[43margs\u001b[49m\u001b[43m)\u001b[49m\u001b[43m,\u001b[49m\n\u001b[1;32m    254\u001b[0m \u001b[43m        \u001b[49m\u001b[38;5;28;43mlen\u001b[39;49m\u001b[43m(\u001b[49m\u001b[38;5;28;43mself\u001b[39;49m\u001b[38;5;241;43m.\u001b[39;49m\u001b[43mfunction_type\u001b[49m\u001b[38;5;241;43m.\u001b[39;49m\u001b[43mflat_outputs\u001b[49m\u001b[43m)\u001b[49m\u001b[43m,\u001b[49m\n\u001b[1;32m    255\u001b[0m \u001b[43m    \u001b[49m\u001b[43m)\u001b[49m\n\u001b[1;32m    256\u001b[0m   \u001b[38;5;28;01melse\u001b[39;00m:\n\u001b[1;32m    257\u001b[0m     outputs \u001b[38;5;241m=\u001b[39m make_call_op_in_graph(\n\u001b[1;32m    258\u001b[0m         \u001b[38;5;28mself\u001b[39m,\n\u001b[1;32m    259\u001b[0m         \u001b[38;5;28mlist\u001b[39m(args),\n\u001b[1;32m    260\u001b[0m         \u001b[38;5;28mself\u001b[39m\u001b[38;5;241m.\u001b[39m_bound_context\u001b[38;5;241m.\u001b[39mfunction_call_options\u001b[38;5;241m.\u001b[39mas_attrs(),\n\u001b[1;32m    261\u001b[0m     )\n",
      "File \u001b[0;32m~/.local/lib/python3.10/site-packages/tensorflow/python/eager/context.py:1486\u001b[0m, in \u001b[0;36mContext.call_function\u001b[0;34m(self, name, tensor_inputs, num_outputs)\u001b[0m\n\u001b[1;32m   1484\u001b[0m cancellation_context \u001b[38;5;241m=\u001b[39m cancellation\u001b[38;5;241m.\u001b[39mcontext()\n\u001b[1;32m   1485\u001b[0m \u001b[38;5;28;01mif\u001b[39;00m cancellation_context \u001b[38;5;129;01mis\u001b[39;00m \u001b[38;5;28;01mNone\u001b[39;00m:\n\u001b[0;32m-> 1486\u001b[0m   outputs \u001b[38;5;241m=\u001b[39m \u001b[43mexecute\u001b[49m\u001b[38;5;241;43m.\u001b[39;49m\u001b[43mexecute\u001b[49m\u001b[43m(\u001b[49m\n\u001b[1;32m   1487\u001b[0m \u001b[43m      \u001b[49m\u001b[43mname\u001b[49m\u001b[38;5;241;43m.\u001b[39;49m\u001b[43mdecode\u001b[49m\u001b[43m(\u001b[49m\u001b[38;5;124;43m\"\u001b[39;49m\u001b[38;5;124;43mutf-8\u001b[39;49m\u001b[38;5;124;43m\"\u001b[39;49m\u001b[43m)\u001b[49m\u001b[43m,\u001b[49m\n\u001b[1;32m   1488\u001b[0m \u001b[43m      \u001b[49m\u001b[43mnum_outputs\u001b[49m\u001b[38;5;241;43m=\u001b[39;49m\u001b[43mnum_outputs\u001b[49m\u001b[43m,\u001b[49m\n\u001b[1;32m   1489\u001b[0m \u001b[43m      \u001b[49m\u001b[43minputs\u001b[49m\u001b[38;5;241;43m=\u001b[39;49m\u001b[43mtensor_inputs\u001b[49m\u001b[43m,\u001b[49m\n\u001b[1;32m   1490\u001b[0m \u001b[43m      \u001b[49m\u001b[43mattrs\u001b[49m\u001b[38;5;241;43m=\u001b[39;49m\u001b[43mattrs\u001b[49m\u001b[43m,\u001b[49m\n\u001b[1;32m   1491\u001b[0m \u001b[43m      \u001b[49m\u001b[43mctx\u001b[49m\u001b[38;5;241;43m=\u001b[39;49m\u001b[38;5;28;43mself\u001b[39;49m\u001b[43m,\u001b[49m\n\u001b[1;32m   1492\u001b[0m \u001b[43m  \u001b[49m\u001b[43m)\u001b[49m\n\u001b[1;32m   1493\u001b[0m \u001b[38;5;28;01melse\u001b[39;00m:\n\u001b[1;32m   1494\u001b[0m   outputs \u001b[38;5;241m=\u001b[39m execute\u001b[38;5;241m.\u001b[39mexecute_with_cancellation(\n\u001b[1;32m   1495\u001b[0m       name\u001b[38;5;241m.\u001b[39mdecode(\u001b[38;5;124m\"\u001b[39m\u001b[38;5;124mutf-8\u001b[39m\u001b[38;5;124m\"\u001b[39m),\n\u001b[1;32m   1496\u001b[0m       num_outputs\u001b[38;5;241m=\u001b[39mnum_outputs,\n\u001b[0;32m   (...)\u001b[0m\n\u001b[1;32m   1500\u001b[0m       cancellation_manager\u001b[38;5;241m=\u001b[39mcancellation_context,\n\u001b[1;32m   1501\u001b[0m   )\n",
      "File \u001b[0;32m~/.local/lib/python3.10/site-packages/tensorflow/python/eager/execute.py:53\u001b[0m, in \u001b[0;36mquick_execute\u001b[0;34m(op_name, num_outputs, inputs, attrs, ctx, name)\u001b[0m\n\u001b[1;32m     51\u001b[0m \u001b[38;5;28;01mtry\u001b[39;00m:\n\u001b[1;32m     52\u001b[0m   ctx\u001b[38;5;241m.\u001b[39mensure_initialized()\n\u001b[0;32m---> 53\u001b[0m   tensors \u001b[38;5;241m=\u001b[39m \u001b[43mpywrap_tfe\u001b[49m\u001b[38;5;241;43m.\u001b[39;49m\u001b[43mTFE_Py_Execute\u001b[49m\u001b[43m(\u001b[49m\u001b[43mctx\u001b[49m\u001b[38;5;241;43m.\u001b[39;49m\u001b[43m_handle\u001b[49m\u001b[43m,\u001b[49m\u001b[43m \u001b[49m\u001b[43mdevice_name\u001b[49m\u001b[43m,\u001b[49m\u001b[43m \u001b[49m\u001b[43mop_name\u001b[49m\u001b[43m,\u001b[49m\n\u001b[1;32m     54\u001b[0m \u001b[43m                                      \u001b[49m\u001b[43minputs\u001b[49m\u001b[43m,\u001b[49m\u001b[43m \u001b[49m\u001b[43mattrs\u001b[49m\u001b[43m,\u001b[49m\u001b[43m \u001b[49m\u001b[43mnum_outputs\u001b[49m\u001b[43m)\u001b[49m\n\u001b[1;32m     55\u001b[0m \u001b[38;5;28;01mexcept\u001b[39;00m core\u001b[38;5;241m.\u001b[39m_NotOkStatusException \u001b[38;5;28;01mas\u001b[39;00m e:\n\u001b[1;32m     56\u001b[0m   \u001b[38;5;28;01mif\u001b[39;00m name \u001b[38;5;129;01mis\u001b[39;00m \u001b[38;5;129;01mnot\u001b[39;00m \u001b[38;5;28;01mNone\u001b[39;00m:\n",
      "\u001b[0;31mKeyboardInterrupt\u001b[0m: "
     ]
    }
   ],
   "source": [
    "history = model_1.fit(\n",
    "    train_generator,\n",
    "    epochs=140,\n",
    "    validation_data=test_generator,\n",
    "    callbacks=[early_stopping],\n",
    "    # class_weight=class_weights\n",
    ")"
   ]
  },
  {
   "cell_type": "code",
   "execution_count": null,
   "metadata": {},
   "outputs": [],
   "source": [
    "def build_sgd_model():\n",
    "    model = Sequential()\n",
    "\n",
    "    for _ in range(15):\n",
    "        model.add(Conv2D(32, kernel_size=(8,8), strides=(2,2), padding=\"same\"))\n",
    "        model.add(BatchNormalization())\n",
    "        model.add(Activation('relu'))\n",
    "\n",
    "    model.add(Conv2D(7, kernel_size=(7, 7), strides=(1, 1), padding='same'))\n",
    "    model.add(BatchNormalization())\n",
    "    model.add(Activation('relu'))\n",
    "\n",
    "    model.add(Flatten())\n",
    "    model.add(Dense(7, activation='softmax'))\n",
    "\n",
    "    return model"
   ]
  },
  {
   "cell_type": "code",
   "execution_count": null,
   "metadata": {},
   "outputs": [],
   "source": [
    "from tensorflow.keras.optimizers import SGD\n",
    "\n",
    "sgd_model = build_sgd_model()\n",
    "\n",
    "sgd_model.compile(optimizer=SGD(), loss='categorical_crossentropy', metrics=['accuracy'])\n"
   ]
  },
  {
   "cell_type": "code",
   "execution_count": null,
   "metadata": {},
   "outputs": [],
   "source": [
    "sgd_model.fit(train_generator, validation_data=test_generator, epochs=140, callbacks=[early_stopping])"
   ]
  },
  {
   "cell_type": "markdown",
   "metadata": {},
   "source": [
    "# Final Evaluation"
   ]
  },
  {
   "cell_type": "code",
   "execution_count": 59,
   "metadata": {},
   "outputs": [],
   "source": [
    "label_mapping = {\n",
    "    0: 0,  # Anger (CK+) to Angry (FER2013)\n",
    "    1: 1,  # Disgust (CK+) to Disgust (FER2013)\n",
    "    2: 2,  # Fear (CK+) to Fear (FER2013)\n",
    "    3: 3,  # Happiness (CK+) to Happy (FER2013)\n",
    "    4: 5,  # Sadness (CK+) to Sad (FER2013)\n",
    "    5: 6,  # Surprise (CK+) to Surprise (FER2013)\n",
    "    6: 4   # Neutral (CK+) to Neutral (FER2013)\n",
    "}"
   ]
  },
  {
   "cell_type": "code",
   "execution_count": 27,
   "metadata": {},
   "outputs": [],
   "source": [
    "evalute_df = pd.read_csv('../../Dataset/CK+/ckextended.csv')"
   ]
  },
  {
   "cell_type": "code",
   "execution_count": 23,
   "metadata": {},
   "outputs": [],
   "source": [
    "def string_to_array(pixel_string):\n",
    "    array = np.fromstring(pixel_string, sep=' ', dtype=np.float32)\n",
    "    array = array.reshape(48,48)\n",
    "    image = Image.fromarray(array)\n",
    "    image = image.resize((64,64), Image.BILINEAR)\n",
    "    return np.expand_dims(np.array(image), axis=-1)/ 255.0"
   ]
  },
  {
   "cell_type": "code",
   "execution_count": 28,
   "metadata": {},
   "outputs": [],
   "source": [
    "evalute_df = evalute_df[evalute_df['emotion'] != 7]"
   ]
  },
  {
   "cell_type": "code",
   "execution_count": 29,
   "metadata": {},
   "outputs": [],
   "source": [
    "evalute_df.loc[:, 'pixels'] = evalute_df['pixels'].apply(string_to_array)"
   ]
  },
  {
   "cell_type": "code",
   "execution_count": 60,
   "metadata": {},
   "outputs": [],
   "source": [
    "evalute_df['emotion'] = evalute_df['emotion'].map(label_mapping)"
   ]
  },
  {
   "cell_type": "code",
   "execution_count": 61,
   "metadata": {},
   "outputs": [
    {
     "data": {
      "text/plain": [
       "0      4\n",
       "1      4\n",
       "2      4\n",
       "3      4\n",
       "4      4\n",
       "      ..\n",
       "915    6\n",
       "916    6\n",
       "917    6\n",
       "918    6\n",
       "919    6\n",
       "Name: emotion, Length: 902, dtype: int64"
      ]
     },
     "execution_count": 61,
     "metadata": {},
     "output_type": "execute_result"
    }
   ],
   "source": [
    "evalute_df['emotion']"
   ]
  },
  {
   "cell_type": "code",
   "execution_count": 62,
   "metadata": {},
   "outputs": [],
   "source": [
    "evaluate_test = evalute_df[(evalute_df['Usage']=='PublicTest') | (evalute_df['Usage']=='PrivateTest')]"
   ]
  },
  {
   "cell_type": "code",
   "execution_count": 63,
   "metadata": {},
   "outputs": [],
   "source": [
    "evaluate_test = evaluate_test.drop('Usage', axis=1)"
   ]
  },
  {
   "cell_type": "code",
   "execution_count": 64,
   "metadata": {},
   "outputs": [
    {
     "data": {
      "text/html": [
       "<div>\n",
       "<style scoped>\n",
       "    .dataframe tbody tr th:only-of-type {\n",
       "        vertical-align: middle;\n",
       "    }\n",
       "\n",
       "    .dataframe tbody tr th {\n",
       "        vertical-align: top;\n",
       "    }\n",
       "\n",
       "    .dataframe thead th {\n",
       "        text-align: right;\n",
       "    }\n",
       "</style>\n",
       "<table border=\"1\" class=\"dataframe\">\n",
       "  <thead>\n",
       "    <tr style=\"text-align: right;\">\n",
       "      <th></th>\n",
       "      <th>emotion</th>\n",
       "      <th>pixels</th>\n",
       "    </tr>\n",
       "  </thead>\n",
       "  <tbody>\n",
       "    <tr>\n",
       "      <th>474</th>\n",
       "      <td>4</td>\n",
       "      <td>[[[0.043137256], [0.033333335], [0.025980392],...</td>\n",
       "    </tr>\n",
       "    <tr>\n",
       "      <th>475</th>\n",
       "      <td>4</td>\n",
       "      <td>[[[0.23137255], [0.2485294], [0.25441176], [0....</td>\n",
       "    </tr>\n",
       "    <tr>\n",
       "      <th>476</th>\n",
       "      <td>4</td>\n",
       "      <td>[[[0.20392157], [0.20637254], [0.21078432], [0...</td>\n",
       "    </tr>\n",
       "    <tr>\n",
       "      <th>477</th>\n",
       "      <td>4</td>\n",
       "      <td>[[[0.3019608], [0.2995098], [0.2509804], [0.16...</td>\n",
       "    </tr>\n",
       "    <tr>\n",
       "      <th>478</th>\n",
       "      <td>4</td>\n",
       "      <td>[[[0.6], [0.6073529], [0.55], [0.44705883], [0...</td>\n",
       "    </tr>\n",
       "    <tr>\n",
       "      <th>...</th>\n",
       "      <td>...</td>\n",
       "      <td>...</td>\n",
       "    </tr>\n",
       "    <tr>\n",
       "      <th>915</th>\n",
       "      <td>6</td>\n",
       "      <td>[[[0.34117648], [0.33872548], [0.34019607], [0...</td>\n",
       "    </tr>\n",
       "    <tr>\n",
       "      <th>916</th>\n",
       "      <td>6</td>\n",
       "      <td>[[[0.08235294], [0.089705884], [0.097058825], ...</td>\n",
       "    </tr>\n",
       "    <tr>\n",
       "      <th>917</th>\n",
       "      <td>6</td>\n",
       "      <td>[[[0.29803923], [0.20980392], [0.14362745], [0...</td>\n",
       "    </tr>\n",
       "    <tr>\n",
       "      <th>918</th>\n",
       "      <td>6</td>\n",
       "      <td>[[[0.44705883], [0.38088235], [0.2367647], [0....</td>\n",
       "    </tr>\n",
       "    <tr>\n",
       "      <th>919</th>\n",
       "      <td>6</td>\n",
       "      <td>[[[0.39607844], [0.3985294], [0.39558825], [0....</td>\n",
       "    </tr>\n",
       "  </tbody>\n",
       "</table>\n",
       "<p>182 rows × 2 columns</p>\n",
       "</div>"
      ],
      "text/plain": [
       "     emotion                                             pixels\n",
       "474        4  [[[0.043137256], [0.033333335], [0.025980392],...\n",
       "475        4  [[[0.23137255], [0.2485294], [0.25441176], [0....\n",
       "476        4  [[[0.20392157], [0.20637254], [0.21078432], [0...\n",
       "477        4  [[[0.3019608], [0.2995098], [0.2509804], [0.16...\n",
       "478        4  [[[0.6], [0.6073529], [0.55], [0.44705883], [0...\n",
       "..       ...                                                ...\n",
       "915        6  [[[0.34117648], [0.33872548], [0.34019607], [0...\n",
       "916        6  [[[0.08235294], [0.089705884], [0.097058825], ...\n",
       "917        6  [[[0.29803923], [0.20980392], [0.14362745], [0...\n",
       "918        6  [[[0.44705883], [0.38088235], [0.2367647], [0....\n",
       "919        6  [[[0.39607844], [0.3985294], [0.39558825], [0....\n",
       "\n",
       "[182 rows x 2 columns]"
      ]
     },
     "execution_count": 64,
     "metadata": {},
     "output_type": "execute_result"
    }
   ],
   "source": [
    "evaluate_test"
   ]
  },
  {
   "cell_type": "code",
   "execution_count": 65,
   "metadata": {},
   "outputs": [],
   "source": [
    "X_eval = np.stack(evaluate_test['pixels'].values)\n",
    "y_eval = pd.get_dummies(evaluate_test['emotion'].values)"
   ]
  },
  {
   "cell_type": "code",
   "execution_count": 66,
   "metadata": {},
   "outputs": [],
   "source": [
    "test_dataset = tf.data.Dataset.from_tensor_slices((X_eval, y_eval))"
   ]
  },
  {
   "cell_type": "code",
   "execution_count": 67,
   "metadata": {},
   "outputs": [],
   "source": [
    "test_dataset = test_dataset.batch(32)"
   ]
  },
  {
   "cell_type": "code",
   "execution_count": 68,
   "metadata": {},
   "outputs": [
    {
     "name": "stdout",
     "output_type": "stream",
     "text": [
      "1/6 [====>.........................] - ETA: 0s - loss: 0.5921 - accuracy: 0.9375"
     ]
    },
    {
     "name": "stdout",
     "output_type": "stream",
     "text": [
      "6/6 [==============================] - 0s 11ms/step - loss: 0.8044 - accuracy: 0.7857\n",
      "Test Loss: 0.804377019405365, Test Accuracy: 0.7857142686843872\n"
     ]
    }
   ],
   "source": [
    "evaluation = model.evaluate(test_dataset)\n",
    "print(f\"Test Loss: {evaluation[0]}, Test Accuracy: {evaluation[1]}\")"
   ]
  },
  {
   "cell_type": "code",
   "execution_count": 84,
   "metadata": {},
   "outputs": [
    {
     "name": "stdout",
     "output_type": "stream",
     "text": [
      "6/6 [==============================] - 0s 14ms/step - loss: 0.7091 - accuracy: 0.8132\n",
      "Test Loss: 0.709087073802948, Test Accuracy: 0.8131868243217468\n"
     ]
    }
   ],
   "source": [
    "evaluation_basic = model_basic.evaluate(test_dataset)\n",
    "print(f\"Test Loss: {evaluation_basic[0]}, Test Accuracy: {evaluation_basic[1]}\")"
   ]
  },
  {
   "cell_type": "code",
   "execution_count": null,
   "metadata": {},
   "outputs": [],
   "source": [
    "model_basic.save('../Recognition/Model/FER_v2.keras')"
   ]
  }
 ],
 "metadata": {
  "kernelspec": {
   "display_name": "Python 3 (ipykernel)",
   "language": "python",
   "name": "python3"
  },
  "language_info": {
   "codemirror_mode": {
    "name": "ipython",
    "version": 3
   },
   "file_extension": ".py",
   "mimetype": "text/x-python",
   "name": "python",
   "nbconvert_exporter": "python",
   "pygments_lexer": "ipython3",
   "version": "3.11.5"
  }
 },
 "nbformat": 4,
 "nbformat_minor": 4
}
