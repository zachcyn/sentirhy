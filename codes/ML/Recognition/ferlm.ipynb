{
 "cells": [
  {
   "cell_type": "code",
   "execution_count": 59,
   "metadata": {},
   "outputs": [],
   "source": [
    "import pandas as pd\n",
    "from sklearn.preprocessing import StandardScaler\n",
    "from sklearn.preprocessing import LabelEncoder\n",
    "from sklearn.model_selection import train_test_split\n",
    "import numpy as np "
   ]
  },
  {
   "cell_type": "code",
   "execution_count": 60,
   "metadata": {},
   "outputs": [
    {
     "name": "stdout",
     "output_type": "stream",
     "text": [
      "   feature_0  feature_1  feature_2  feature_3  feature_4  feature_5  \\\n",
      "0   0.480718   0.865033   0.011751   0.494339   0.809657  -0.120009   \n",
      "1   0.693867   0.747721  -0.038615   0.733758   0.668090  -0.126214   \n",
      "2   0.693939   0.451788  -0.075072   0.690447   0.350399  -0.101859   \n",
      "3   0.526356   0.588929  -0.123498   0.506472   0.461369  -0.193999   \n",
      "4   0.471670   0.747502  -0.080709   0.455760   0.623900  -0.188465   \n",
      "\n",
      "   feature_6  feature_7  feature_8  feature_9  ...  feature_1395  \\\n",
      "0   0.484121   0.809364  -0.029411   0.470516  ...      0.546133   \n",
      "1   0.709196   0.682638  -0.053985   0.724878  ...      0.777323   \n",
      "2   0.658577   0.406776  -0.061631   0.602316  ...      0.563476   \n",
      "3   0.512953   0.501413  -0.110522   0.458113  ...      0.540542   \n",
      "4   0.468718   0.652859  -0.085783   0.425634  ...      0.538771   \n",
      "\n",
      "   feature_1396  feature_1397  feature_1398  feature_1399  feature_1400  \\\n",
      "0      0.587090     -0.098797      0.710768      0.518932     -0.051465   \n",
      "1      0.496579     -0.030970      0.898430      0.485401      0.057831   \n",
      "2      0.261366      0.050090      0.609034      0.236427      0.217419   \n",
      "3      0.263342     -0.005667      0.733765      0.194985      0.063830   \n",
      "4      0.393598     -0.067776      0.763442      0.327326     -0.031040   \n",
      "\n",
      "   feature_1401  feature_1402  feature_1403  label  \n",
      "0      0.725955      0.498642     -0.052596  angry  \n",
      "1      0.909741      0.481177      0.060984  angry  \n",
      "2      0.606534      0.226937      0.230164  angry  \n",
      "3      0.750935      0.174060      0.065627  angry  \n",
      "4      0.783344      0.309908     -0.034432  angry  \n",
      "\n",
      "[5 rows x 1405 columns]\n"
     ]
    }
   ],
   "source": [
    "data = pd.read_csv('../../Dataset/FER2013_LM/landmark_data.csv')\n",
    "print(data.head())"
   ]
  },
  {
   "cell_type": "code",
   "execution_count": 61,
   "metadata": {},
   "outputs": [],
   "source": [
    "features = data.iloc[:, :-1].values\n",
    "scaler = StandardScaler()\n",
    "features_scaled = scaler.fit_transform(features)"
   ]
  },
  {
   "cell_type": "code",
   "execution_count": 85,
   "metadata": {},
   "outputs": [
    {
     "data": {
      "text/plain": [
       "1404"
      ]
     },
     "execution_count": 85,
     "metadata": {},
     "output_type": "execute_result"
    }
   ],
   "source": [
    "features.shape[1]"
   ]
  },
  {
   "cell_type": "code",
   "execution_count": 62,
   "metadata": {},
   "outputs": [],
   "source": [
    "labels = data['label'].values\n",
    "encoder = LabelEncoder()\n",
    "labels_encoded = encoder.fit_transform(labels)\n"
   ]
  },
  {
   "cell_type": "code",
   "execution_count": 63,
   "metadata": {},
   "outputs": [
    {
     "data": {
      "text/plain": [
       "{'angry': 0,\n",
       " 'disgust': 1,\n",
       " 'fear': 2,\n",
       " 'happy': 3,\n",
       " 'neutral': 4,\n",
       " 'sad': 5,\n",
       " 'surprise': 6}"
      ]
     },
     "execution_count": 63,
     "metadata": {},
     "output_type": "execute_result"
    }
   ],
   "source": [
    "label_mapping = dict(zip(encoder.classes_, range(len(encoder.classes_))))\n",
    "label_mapping"
   ]
  },
  {
   "cell_type": "code",
   "execution_count": 64,
   "metadata": {},
   "outputs": [],
   "source": [
    "X_train, X_test, y_train, y_test = train_test_split(features_scaled, labels_encoded, test_size=0.3, random_state=42)"
   ]
  },
  {
   "cell_type": "code",
   "execution_count": 45,
   "metadata": {},
   "outputs": [
    {
     "data": {
      "text/plain": [
       "array([[-1.27232688,  0.43911731,  0.60604262, ..., -0.45133091,\n",
       "        -0.34453814, -1.62723337],\n",
       "       [-0.04707392,  0.46488676, -0.55154988, ...,  0.99914928,\n",
       "         0.72003527,  0.51545633],\n",
       "       [-0.92678723, -1.10053593, -0.71157271, ..., -0.35590096,\n",
       "         0.98744352, -0.01084884],\n",
       "       ...,\n",
       "       [-0.07570162,  0.40812306, -0.45914245, ...,  0.21082602,\n",
       "        -0.42955586, -0.67205161],\n",
       "       [-0.02357844,  0.38911099,  0.06014418, ...,  0.38837543,\n",
       "        -0.33719796, -0.42625888],\n",
       "       [-0.09777136, -0.33005304,  0.07251476, ...,  0.44713901,\n",
       "         0.36845864, -0.22594308]])"
      ]
     },
     "execution_count": 45,
     "metadata": {},
     "output_type": "execute_result"
    }
   ],
   "source": [
    "X_train"
   ]
  },
  {
   "cell_type": "code",
   "execution_count": 65,
   "metadata": {},
   "outputs": [],
   "source": [
    "X_train, X_val, y_train, y_val = train_test_split(X_train, y_train,  test_size=0.3, random_state=42)"
   ]
  },
  {
   "cell_type": "code",
   "execution_count": 83,
   "metadata": {},
   "outputs": [
    {
     "data": {
      "text/plain": [
       "(1404,)"
      ]
     },
     "execution_count": 83,
     "metadata": {},
     "output_type": "execute_result"
    }
   ],
   "source": [
    "X_train.shape[1],"
   ]
  },
  {
   "cell_type": "code",
   "execution_count": 76,
   "metadata": {},
   "outputs": [],
   "source": [
    "from tensorflow.keras.models import Sequential\n",
    "from tensorflow.keras.layers import Conv2D, MaxPooling2D, Flatten, Dense, Dropout\n",
    "from tensorflow.keras.optimizers import Adam\n",
    "\n",
    "model = Sequential([\n",
    "    Dense(256, activation='relu', input_shape=(X_train.shape[1],)),\n",
    "    Dropout(0.3),\n",
    "    Dense(128, activation='relu'),\n",
    "    Dropout(0.3),\n",
    "    Dense(64, activation='relu'),\n",
    "    Dropout(0.2),\n",
    "    Dense(len(np.unique(labels_encoded)), activation='softmax')\n",
    "])\n",
    "\n",
    "optimizer = Adam(learning_rate=0.0001)\n",
    "\n",
    "model.compile(optimizer=optimizer, loss='sparse_categorical_crossentropy', metrics=['accuracy'])"
   ]
  },
  {
   "cell_type": "code",
   "execution_count": 67,
   "metadata": {},
   "outputs": [],
   "source": [
    "from tensorflow.keras.callbacks import EarlyStopping\n",
    "\n",
    "early_stopping = EarlyStopping(monitor='val_accuracy', patience=5, verbose=1, restore_best_weights=True)"
   ]
  },
  {
   "cell_type": "code",
   "execution_count": 77,
   "metadata": {},
   "outputs": [
    {
     "name": "stdout",
     "output_type": "stream",
     "text": [
      "Epoch 1/90\n",
      "508/508 [==============================] - 4s 5ms/step - loss: 1.7786 - accuracy: 0.3177 - val_loss: 1.5268 - val_accuracy: 0.4170\n",
      "Epoch 2/90\n",
      "508/508 [==============================] - 3s 5ms/step - loss: 1.5643 - accuracy: 0.3977 - val_loss: 1.4478 - val_accuracy: 0.4401\n",
      "Epoch 3/90\n",
      "508/508 [==============================] - 3s 5ms/step - loss: 1.4990 - accuracy: 0.4243 - val_loss: 1.4073 - val_accuracy: 0.4622\n",
      "Epoch 4/90\n",
      "508/508 [==============================] - 2s 5ms/step - loss: 1.4685 - accuracy: 0.4364 - val_loss: 1.3789 - val_accuracy: 0.4688\n",
      "Epoch 5/90\n",
      "508/508 [==============================] - 3s 5ms/step - loss: 1.4441 - accuracy: 0.4411 - val_loss: 1.3743 - val_accuracy: 0.4701\n",
      "Epoch 6/90\n",
      "508/508 [==============================] - 3s 5ms/step - loss: 1.4242 - accuracy: 0.4500 - val_loss: 1.3534 - val_accuracy: 0.4777\n",
      "Epoch 7/90\n",
      "508/508 [==============================] - 3s 6ms/step - loss: 1.4184 - accuracy: 0.4548 - val_loss: 1.3469 - val_accuracy: 0.4826\n",
      "Epoch 8/90\n",
      "508/508 [==============================] - 3s 6ms/step - loss: 1.4022 - accuracy: 0.4594 - val_loss: 1.3408 - val_accuracy: 0.4772\n",
      "Epoch 9/90\n",
      "508/508 [==============================] - 2s 5ms/step - loss: 1.3961 - accuracy: 0.4628 - val_loss: 1.3355 - val_accuracy: 0.4851\n",
      "Epoch 10/90\n",
      "508/508 [==============================] - 3s 6ms/step - loss: 1.3913 - accuracy: 0.4669 - val_loss: 1.3246 - val_accuracy: 0.4950\n",
      "Epoch 11/90\n",
      "508/508 [==============================] - 3s 6ms/step - loss: 1.3791 - accuracy: 0.4690 - val_loss: 1.3330 - val_accuracy: 0.4865\n",
      "Epoch 12/90\n",
      "508/508 [==============================] - 3s 6ms/step - loss: 1.3822 - accuracy: 0.4703 - val_loss: 1.3228 - val_accuracy: 0.4845\n",
      "Epoch 13/90\n",
      "508/508 [==============================] - 3s 5ms/step - loss: 1.3735 - accuracy: 0.4700 - val_loss: 1.3134 - val_accuracy: 0.4895\n",
      "Epoch 14/90\n",
      "508/508 [==============================] - 3s 6ms/step - loss: 1.3660 - accuracy: 0.4744 - val_loss: 1.3126 - val_accuracy: 0.4933\n",
      "Epoch 15/90\n",
      "508/508 [==============================] - 3s 6ms/step - loss: 1.3627 - accuracy: 0.4757 - val_loss: 1.3163 - val_accuracy: 0.4957\n",
      "Epoch 16/90\n",
      "508/508 [==============================] - 3s 5ms/step - loss: 1.3564 - accuracy: 0.4771 - val_loss: 1.3162 - val_accuracy: 0.4960\n",
      "Epoch 17/90\n",
      "508/508 [==============================] - 3s 5ms/step - loss: 1.3511 - accuracy: 0.4838 - val_loss: 1.3089 - val_accuracy: 0.4957\n",
      "Epoch 18/90\n",
      "508/508 [==============================] - 3s 6ms/step - loss: 1.3472 - accuracy: 0.4813 - val_loss: 1.3018 - val_accuracy: 0.4999\n",
      "Epoch 19/90\n",
      "508/508 [==============================] - 3s 6ms/step - loss: 1.3483 - accuracy: 0.4792 - val_loss: 1.3043 - val_accuracy: 0.5050\n",
      "Epoch 20/90\n",
      "508/508 [==============================] - 3s 6ms/step - loss: 1.3443 - accuracy: 0.4794 - val_loss: 1.3005 - val_accuracy: 0.4984\n",
      "Epoch 21/90\n",
      "508/508 [==============================] - 3s 5ms/step - loss: 1.3390 - accuracy: 0.4822 - val_loss: 1.2986 - val_accuracy: 0.5029\n",
      "Epoch 22/90\n",
      "508/508 [==============================] - 3s 5ms/step - loss: 1.3333 - accuracy: 0.4866 - val_loss: 1.2935 - val_accuracy: 0.5055\n",
      "Epoch 23/90\n",
      "508/508 [==============================] - 3s 5ms/step - loss: 1.3299 - accuracy: 0.4938 - val_loss: 1.3008 - val_accuracy: 0.5019\n",
      "Epoch 24/90\n",
      "508/508 [==============================] - 3s 6ms/step - loss: 1.3317 - accuracy: 0.4894 - val_loss: 1.2846 - val_accuracy: 0.5141\n",
      "Epoch 25/90\n",
      "508/508 [==============================] - 3s 6ms/step - loss: 1.3262 - accuracy: 0.4894 - val_loss: 1.2851 - val_accuracy: 0.5046\n",
      "Epoch 26/90\n",
      "508/508 [==============================] - 3s 6ms/step - loss: 1.3220 - accuracy: 0.4907 - val_loss: 1.2841 - val_accuracy: 0.5003\n",
      "Epoch 27/90\n",
      "508/508 [==============================] - 3s 5ms/step - loss: 1.3165 - accuracy: 0.4885 - val_loss: 1.2855 - val_accuracy: 0.5050\n",
      "Epoch 28/90\n",
      "508/508 [==============================] - 3s 5ms/step - loss: 1.3187 - accuracy: 0.4934 - val_loss: 1.2779 - val_accuracy: 0.5080\n",
      "Epoch 29/90\n",
      "501/508 [============================>.] - ETA: 0s - loss: 1.3105 - accuracy: 0.5006Restoring model weights from the end of the best epoch: 24.\n",
      "508/508 [==============================] - 3s 5ms/step - loss: 1.3105 - accuracy: 0.5011 - val_loss: 1.2782 - val_accuracy: 0.5098\n",
      "Epoch 29: early stopping\n"
     ]
    }
   ],
   "source": [
    "history = model.fit(X_train, y_train, epochs=90, batch_size=32, validation_data=(X_val, y_val), callbacks=[early_stopping])"
   ]
  },
  {
   "cell_type": "code",
   "execution_count": 78,
   "metadata": {},
   "outputs": [
    {
     "data": {
      "image/png": "[encoded data removed]",
      "text/plain": [
       "<Figure size 640x480 with 1 Axes>"
      ]
     },
     "metadata": {},
     "output_type": "display_data"
    },
    {
     "data": {
      "image/png": "[encoded data removed]",
      "text/plain": [
       "<Figure size 640x480 with 1 Axes>"
      ]
     },
     "metadata": {},
     "output_type": "display_data"
    }
   ],
   "source": [
    "import matplotlib.pyplot as plt\n",
    "\n",
    "# Plot training & validation accuracy values\n",
    "plt.plot(history.history['accuracy'])\n",
    "plt.plot(history.history['val_accuracy'])\n",
    "plt.title('Model accuracy')\n",
    "plt.ylabel('Accuracy')\n",
    "plt.xlabel('Epoch')\n",
    "plt.legend(['Train', 'Test'], loc='upper left')\n",
    "plt.show()\n",
    "\n",
    "# Plot training & validation loss values\n",
    "plt.plot(history.history['loss'])\n",
    "plt.plot(history.history['val_loss'])\n",
    "plt.title('Model loss')\n",
    "plt.ylabel('Loss')\n",
    "plt.xlabel('Epoch')\n",
    "plt.legend(['Train', 'Test'], loc='upper left')\n",
    "plt.show()"
   ]
  },
  {
   "cell_type": "code",
   "execution_count": 79,
   "metadata": {},
   "outputs": [
    {
     "name": "stdout",
     "output_type": "stream",
     "text": [
      "311/311 [==============================] - 1s 2ms/step - loss: 1.2727 - accuracy: 0.5181\n"
     ]
    },
    {
     "data": {
      "text/plain": [
       "[1.2726590633392334, 0.5181425213813782]"
      ]
     },
     "execution_count": 79,
     "metadata": {},
     "output_type": "execute_result"
    }
   ],
   "source": [
    "model.evaluate(X_test,y_test)"
   ]
  },
  {
   "cell_type": "code",
   "execution_count": 82,
   "metadata": {},
   "outputs": [],
   "source": [
    "model.save('../Recognition/Model/FER_LM_v1.keras')"
   ]
  },
  {
   "cell_type": "code",
   "execution_count": 46,
   "metadata": {},
   "outputs": [
    {
     "data": {
      "text/html": [
       "<style>#sk-container-id-1 {color: black;}#sk-container-id-1 pre{padding: 0;}#sk-container-id-1 div.sk-toggleable {background-color: white;}#sk-container-id-1 label.sk-toggleable__label {cursor: pointer;display: block;width: 100%;margin-bottom: 0;padding: 0.3em;box-sizing: border-box;text-align: center;}#sk-container-id-1 label.sk-toggleable__label-arrow:before {content: \"▸\";float: left;margin-right: 0.25em;color: #696969;}#sk-container-id-1 label.sk-toggleable__label-arrow:hover:before {color: black;}#sk-container-id-1 div.sk-estimator:hover label.sk-toggleable__label-arrow:before {color: black;}#sk-container-id-1 div.sk-toggleable__content {max-height: 0;max-width: 0;overflow: hidden;text-align: left;background-color: #f0f8ff;}#sk-container-id-1 div.sk-toggleable__content pre {margin: 0.2em;color: black;border-radius: 0.25em;background-color: #f0f8ff;}#sk-container-id-1 input.sk-toggleable__control:checked~div.sk-toggleable__content {max-height: 200px;max-width: 100%;overflow: auto;}#sk-container-id-1 input.sk-toggleable__control:checked~label.sk-toggleable__label-arrow:before {content: \"▾\";}#sk-container-id-1 div.sk-estimator input.sk-toggleable__control:checked~label.sk-toggleable__label {background-color: #d4ebff;}#sk-container-id-1 div.sk-label input.sk-toggleable__control:checked~label.sk-toggleable__label {background-color: #d4ebff;}#sk-container-id-1 input.sk-hidden--visually {border: 0;clip: rect(1px 1px 1px 1px);clip: rect(1px, 1px, 1px, 1px);height: 1px;margin: -1px;overflow: hidden;padding: 0;position: absolute;width: 1px;}#sk-container-id-1 div.sk-estimator {font-family: monospace;background-color: #f0f8ff;border: 1px dotted black;border-radius: 0.25em;box-sizing: border-box;margin-bottom: 0.5em;}#sk-container-id-1 div.sk-estimator:hover {background-color: #d4ebff;}#sk-container-id-1 div.sk-parallel-item::after {content: \"\";width: 100%;border-bottom: 1px solid gray;flex-grow: 1;}#sk-container-id-1 div.sk-label:hover label.sk-toggleable__label {background-color: #d4ebff;}#sk-container-id-1 div.sk-serial::before {content: \"\";position: absolute;border-left: 1px solid gray;box-sizing: border-box;top: 0;bottom: 0;left: 50%;z-index: 0;}#sk-container-id-1 div.sk-serial {display: flex;flex-direction: column;align-items: center;background-color: white;padding-right: 0.2em;padding-left: 0.2em;position: relative;}#sk-container-id-1 div.sk-item {position: relative;z-index: 1;}#sk-container-id-1 div.sk-parallel {display: flex;align-items: stretch;justify-content: center;background-color: white;position: relative;}#sk-container-id-1 div.sk-item::before, #sk-container-id-1 div.sk-parallel-item::before {content: \"\";position: absolute;border-left: 1px solid gray;box-sizing: border-box;top: 0;bottom: 0;left: 50%;z-index: -1;}#sk-container-id-1 div.sk-parallel-item {display: flex;flex-direction: column;z-index: 1;position: relative;background-color: white;}#sk-container-id-1 div.sk-parallel-item:first-child::after {align-self: flex-end;width: 50%;}#sk-container-id-1 div.sk-parallel-item:last-child::after {align-self: flex-start;width: 50%;}#sk-container-id-1 div.sk-parallel-item:only-child::after {width: 0;}#sk-container-id-1 div.sk-dashed-wrapped {border: 1px dashed gray;margin: 0 0.4em 0.5em 0.4em;box-sizing: border-box;padding-bottom: 0.4em;background-color: white;}#sk-container-id-1 div.sk-label label {font-family: monospace;font-weight: bold;display: inline-block;line-height: 1.2em;}#sk-container-id-1 div.sk-label-container {text-align: center;}#sk-container-id-1 div.sk-container {/* jupyter's `normalize.less` sets `[hidden] { display: none; }` but bootstrap.min.css set `[hidden] { display: none !important; }` so we also need the `!important` here to be able to override the default hidden behavior on the sphinx rendered scikit-learn.org. See: https://github.com/scikit-learn/scikit-learn/issues/21755 */display: inline-block !important;position: relative;}#sk-container-id-1 div.sk-text-repr-fallback {display: none;}</style><div id=\"sk-container-id-1\" class=\"sk-top-container\"><div class=\"sk-text-repr-fallback\"><pre>SVC()</pre><b>In a Jupyter environment, please rerun this cell to show the HTML representation or trust the notebook. <br />On GitHub, the HTML representation is unable to render, please try loading this page with nbviewer.org.</b></div><div class=\"sk-container\" hidden><div class=\"sk-item\"><div class=\"sk-estimator sk-toggleable\"><input class=\"sk-toggleable__control sk-hidden--visually\" id=\"sk-estimator-id-1\" type=\"checkbox\" checked><label for=\"sk-estimator-id-1\" class=\"sk-toggleable__label sk-toggleable__label-arrow\">SVC</label><div class=\"sk-toggleable__content\"><pre>SVC()</pre></div></div></div></div></div>"
      ],
      "text/plain": [
       "SVC()"
      ]
     },
     "execution_count": 46,
     "metadata": {},
     "output_type": "execute_result"
    }
   ],
   "source": [
    "from sklearn.svm import SVC\n",
    "\n",
    "svc_model = SVC(kernel='rbf')\n",
    "svc_model.fit(X_train, y_train)"
   ]
  },
  {
   "cell_type": "code",
   "execution_count": 49,
   "metadata": {},
   "outputs": [
    {
     "data": {
      "text/plain": [
       "array([5, 5, 4, ..., 1, 4, 5])"
      ]
     },
     "execution_count": 49,
     "metadata": {},
     "output_type": "execute_result"
    }
   ],
   "source": [
    "y_test"
   ]
  },
  {
   "cell_type": "code",
   "execution_count": 48,
   "metadata": {},
   "outputs": [
    {
     "name": "stdout",
     "output_type": "stream",
     "text": [
      "[4 5 5 ... 0 4 5]\n"
     ]
    }
   ],
   "source": [
    "evaluation = svc_model.predict(X_test)\n",
    "print(evaluation)"
   ]
  },
  {
   "cell_type": "code",
   "execution_count": 50,
   "metadata": {},
   "outputs": [
    {
     "name": "stdout",
     "output_type": "stream",
     "text": [
      "              precision    recall  f1-score   support\n",
      "\n",
      "           0       0.46      0.26      0.33      1283\n",
      "           1       0.00      0.00      0.00       139\n",
      "           2       0.30      0.10      0.15      1394\n",
      "           3       0.74      0.82      0.78      2634\n",
      "           4       0.39      0.66      0.49      1782\n",
      "           5       0.34      0.40      0.37      1549\n",
      "           6       0.62      0.57      0.60      1168\n",
      "\n",
      "    accuracy                           0.51      9949\n",
      "   macro avg       0.41      0.40      0.39      9949\n",
      "weighted avg       0.50      0.51      0.49      9949\n",
      "\n"
     ]
    },
    {
     "name": "stderr",
     "output_type": "stream",
     "text": [
      "d:\\Program Files (x86)\\Python\\Lib\\site-packages\\sklearn\\metrics\\_classification.py:1471: UndefinedMetricWarning: Precision and F-score are ill-defined and being set to 0.0 in labels with no predicted samples. Use `zero_division` parameter to control this behavior.\n",
      "  _warn_prf(average, modifier, msg_start, len(result))\n",
      "d:\\Program Files (x86)\\Python\\Lib\\site-packages\\sklearn\\metrics\\_classification.py:1471: UndefinedMetricWarning: Precision and F-score are ill-defined and being set to 0.0 in labels with no predicted samples. Use `zero_division` parameter to control this behavior.\n",
      "  _warn_prf(average, modifier, msg_start, len(result))\n",
      "d:\\Program Files (x86)\\Python\\Lib\\site-packages\\sklearn\\metrics\\_classification.py:1471: UndefinedMetricWarning: Precision and F-score are ill-defined and being set to 0.0 in labels with no predicted samples. Use `zero_division` parameter to control this behavior.\n",
      "  _warn_prf(average, modifier, msg_start, len(result))\n"
     ]
    }
   ],
   "source": [
    "from sklearn.metrics import classification_report\n",
    "\n",
    "print(classification_report(y_test, evaluation))"
   ]
  }
 ],
 "metadata": {
  "kernelspec": {
   "display_name": "Python 3",
   "language": "python",
   "name": "python3"
  },
  "language_info": {
   "codemirror_mode": {
    "name": "ipython",
    "version": 3
   },
   "file_extension": ".py",
   "mimetype": "text/x-python",
   "name": "python",
   "nbconvert_exporter": "python",
   "pygments_lexer": "ipython3",
   "version": "3.11.5"
  }
 },
 "nbformat": 4,
 "nbformat_minor": 2
}
