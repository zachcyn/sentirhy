{
 "cells": [
  {
   "cell_type": "code",
   "execution_count": 1,
   "metadata": {},
   "outputs": [
    {
     "name": "stdout",
     "output_type": "stream",
     "text": [
      "WARNING:tensorflow:From d:\\Program Files (x86)\\Python\\Lib\\site-packages\\keras\\src\\losses.py:2976: The name tf.losses.sparse_softmax_cross_entropy is deprecated. Please use tf.compat.v1.losses.sparse_softmax_cross_entropy instead.\n",
      "\n"
     ]
    }
   ],
   "source": [
    "import os\n",
    "import numpy as np\n",
    "import pandas as pd\n",
    "import pickle\n",
    "import itertools\n",
    "import cv2\n",
    "from PIL import Image\n",
    "from pymongo import MongoClient\n",
    "from sklearn.model_selection import train_test_split\n",
    "import tensorflow as tf\n",
    "from tensorflow.keras.models import Sequential\n",
    "from sklearn.preprocessing import LabelEncoder\n",
    "from tensorflow.keras.layers import Conv2D, MaxPooling2D, Flatten, Dense, Dropout, BatchNormalization, Activation\n",
    "from tensorflow.keras.utils import to_categorical\n",
    "from keras_tuner import RandomSearch\n",
    "from sklearn.utils.class_weight import compute_class_weight\n",
    "from tensorflow.keras.preprocessing.image import ImageDataGenerator"
   ]
  },
  {
   "cell_type": "code",
   "execution_count": 58,
   "metadata": {},
   "outputs": [],
   "source": [
    "model = tf.keras.models.load_model('../..//ML/Recognition/Model/FER_v2.keras')"
   ]
  },
  {
   "cell_type": "code",
   "execution_count": 3,
   "metadata": {},
   "outputs": [],
   "source": [
    "label_mapping = {\n",
    "    0: 0,  # Anger (CK+) to Angry (FER2013)\n",
    "    1: 1,  # Disgust (CK+) to Disgust (FER2013)\n",
    "    2: 2,  # Fear (CK+) to Fear (FER2013)\n",
    "    3: 3,  # Happiness (CK+) to Happy (FER2013)\n",
    "    4: 5,  # Sadness (CK+) to Sad (FER2013)\n",
    "    5: 6,  # Surprise (CK+) to Surprise (FER2013)\n",
    "    6: 4   # Neutral (CK+) to Neutral (FER2013)\n",
    "}"
   ]
  },
  {
   "cell_type": "code",
   "execution_count": 4,
   "metadata": {},
   "outputs": [],
   "source": [
    "evalute_df = pd.read_csv('../../Dataset/CK+/ckextended.csv')"
   ]
  },
  {
   "cell_type": "code",
   "execution_count": 5,
   "metadata": {},
   "outputs": [],
   "source": [
    "def string_to_array(pixel_string):\n",
    "    array = np.fromstring(pixel_string, sep=' ', dtype=np.float32)\n",
    "    array = array.reshape(48,48)\n",
    "    image = Image.fromarray(array)\n",
    "    image = image.resize((64,64), Image.BILINEAR)\n",
    "    return np.expand_dims(np.array(image), axis=-1)/ 255.0"
   ]
  },
  {
   "cell_type": "code",
   "execution_count": 6,
   "metadata": {},
   "outputs": [],
   "source": [
    "evalute_df = evalute_df[evalute_df['emotion'] != 7]\n",
    "evalute_df.loc[:, 'pixels'] = evalute_df['pixels'].apply(string_to_array)\n",
    "evalute_df['emotion'] = evalute_df['emotion'].map(label_mapping)"
   ]
  },
  {
   "cell_type": "code",
   "execution_count": 16,
   "metadata": {},
   "outputs": [
    {
     "data": {
      "text/html": [
       "<div>\n",
       "<style scoped>\n",
       "    .dataframe tbody tr th:only-of-type {\n",
       "        vertical-align: middle;\n",
       "    }\n",
       "\n",
       "    .dataframe tbody tr th {\n",
       "        vertical-align: top;\n",
       "    }\n",
       "\n",
       "    .dataframe thead th {\n",
       "        text-align: right;\n",
       "    }\n",
       "</style>\n",
       "<table border=\"1\" class=\"dataframe\">\n",
       "  <thead>\n",
       "    <tr style=\"text-align: right;\">\n",
       "      <th></th>\n",
       "      <th>emotion</th>\n",
       "      <th>pixels</th>\n",
       "      <th>Usage</th>\n",
       "    </tr>\n",
       "  </thead>\n",
       "  <tbody>\n",
       "    <tr>\n",
       "      <th>0</th>\n",
       "      <td>4</td>\n",
       "      <td>[[[0.14117648], [0.14852941], [0.14705883], [0...</td>\n",
       "      <td>Training</td>\n",
       "    </tr>\n",
       "    <tr>\n",
       "      <th>1</th>\n",
       "      <td>4</td>\n",
       "      <td>[[[0.34509805], [0.3107843], [0.20931372], [0....</td>\n",
       "      <td>Training</td>\n",
       "    </tr>\n",
       "    <tr>\n",
       "      <th>2</th>\n",
       "      <td>4</td>\n",
       "      <td>[[[0.03529412], [0.018137256], [0.010784314], ...</td>\n",
       "      <td>Training</td>\n",
       "    </tr>\n",
       "    <tr>\n",
       "      <th>3</th>\n",
       "      <td>4</td>\n",
       "      <td>[[[0.40784314], [0.4127451], [0.41862744], [0....</td>\n",
       "      <td>Training</td>\n",
       "    </tr>\n",
       "    <tr>\n",
       "      <th>4</th>\n",
       "      <td>4</td>\n",
       "      <td>[[[0.26666668], [0.2764706], [0.275], [0.26274...</td>\n",
       "      <td>Training</td>\n",
       "    </tr>\n",
       "    <tr>\n",
       "      <th>...</th>\n",
       "      <td>...</td>\n",
       "      <td>...</td>\n",
       "      <td>...</td>\n",
       "    </tr>\n",
       "    <tr>\n",
       "      <th>915</th>\n",
       "      <td>6</td>\n",
       "      <td>[[[0.34117648], [0.33872548], [0.34019607], [0...</td>\n",
       "      <td>PrivateTest</td>\n",
       "    </tr>\n",
       "    <tr>\n",
       "      <th>916</th>\n",
       "      <td>6</td>\n",
       "      <td>[[[0.08235294], [0.089705884], [0.097058825], ...</td>\n",
       "      <td>PrivateTest</td>\n",
       "    </tr>\n",
       "    <tr>\n",
       "      <th>917</th>\n",
       "      <td>6</td>\n",
       "      <td>[[[0.29803923], [0.20980392], [0.14362745], [0...</td>\n",
       "      <td>PrivateTest</td>\n",
       "    </tr>\n",
       "    <tr>\n",
       "      <th>918</th>\n",
       "      <td>6</td>\n",
       "      <td>[[[0.44705883], [0.38088235], [0.2367647], [0....</td>\n",
       "      <td>PrivateTest</td>\n",
       "    </tr>\n",
       "    <tr>\n",
       "      <th>919</th>\n",
       "      <td>6</td>\n",
       "      <td>[[[0.39607844], [0.3985294], [0.39558825], [0....</td>\n",
       "      <td>PrivateTest</td>\n",
       "    </tr>\n",
       "  </tbody>\n",
       "</table>\n",
       "<p>902 rows × 3 columns</p>\n",
       "</div>"
      ],
      "text/plain": [
       "     emotion                                             pixels        Usage\n",
       "0          4  [[[0.14117648], [0.14852941], [0.14705883], [0...     Training\n",
       "1          4  [[[0.34509805], [0.3107843], [0.20931372], [0....     Training\n",
       "2          4  [[[0.03529412], [0.018137256], [0.010784314], ...     Training\n",
       "3          4  [[[0.40784314], [0.4127451], [0.41862744], [0....     Training\n",
       "4          4  [[[0.26666668], [0.2764706], [0.275], [0.26274...     Training\n",
       "..       ...                                                ...          ...\n",
       "915        6  [[[0.34117648], [0.33872548], [0.34019607], [0...  PrivateTest\n",
       "916        6  [[[0.08235294], [0.089705884], [0.097058825], ...  PrivateTest\n",
       "917        6  [[[0.29803923], [0.20980392], [0.14362745], [0...  PrivateTest\n",
       "918        6  [[[0.44705883], [0.38088235], [0.2367647], [0....  PrivateTest\n",
       "919        6  [[[0.39607844], [0.3985294], [0.39558825], [0....  PrivateTest\n",
       "\n",
       "[902 rows x 3 columns]"
      ]
     },
     "execution_count": 16,
     "metadata": {},
     "output_type": "execute_result"
    }
   ],
   "source": [
    "evalute_df"
   ]
  },
  {
   "cell_type": "code",
   "execution_count": 21,
   "metadata": {},
   "outputs": [],
   "source": [
    "val_data = evalute_df[evalute_df['Usage']=='PrivateTest']\n",
    "train_data = evalute_df[evalute_df['Usage']=='Training']\n",
    "test_data = evalute_df[evalute_df['Usage']=='PublicTest']"
   ]
  },
  {
   "cell_type": "code",
   "execution_count": 22,
   "metadata": {},
   "outputs": [],
   "source": [
    "test_data = test_data.drop('Usage', axis=1)\n",
    "train_data = train_data.drop('Usage', axis=1)\n",
    "val_data = val_data.drop('Usage', axis=1)"
   ]
  },
  {
   "cell_type": "code",
   "execution_count": 56,
   "metadata": {},
   "outputs": [],
   "source": [
    "X_test = np.stack(test_data['pixels'].values)\n",
    "y_test = pd.get_dummies(test_data['emotion'].values).astype(float)\n",
    "X_train = np.stack(train_data['pixels'].values)\n",
    "y_train = pd.get_dummies(train_data['emotion'].values).astype(float)\n",
    "X_val = np.stack(val_data['pixels'].values)\n",
    "y_val = pd.get_dummies(val_data['emotion'].values).astype(float)"
   ]
  },
  {
   "cell_type": "code",
   "execution_count": 23,
   "metadata": {},
   "outputs": [],
   "source": [
    "from tensorflow.keras.callbacks import EarlyStopping\n",
    "\n",
    "early_stopping = EarlyStopping(monitor='val_accuracy', patience=5, verbose=1, restore_best_weights=True)"
   ]
  },
  {
   "cell_type": "code",
   "execution_count": 59,
   "metadata": {},
   "outputs": [
    {
     "name": "stdout",
     "output_type": "stream",
     "text": [
      "Epoch 1/90\n",
      "23/23 [==============================] - 7s 210ms/step - loss: 0.6182 - accuracy: 0.8278 - val_loss: 0.5955 - val_accuracy: 0.8387\n",
      "Epoch 2/90\n",
      "23/23 [==============================] - 5s 213ms/step - loss: 0.4871 - accuracy: 0.8611 - val_loss: 0.5420 - val_accuracy: 0.8495\n",
      "Epoch 3/90\n",
      "23/23 [==============================] - 5s 201ms/step - loss: 0.4534 - accuracy: 0.8681 - val_loss: 0.4928 - val_accuracy: 0.8495\n",
      "Epoch 4/90\n",
      "23/23 [==============================] - 4s 184ms/step - loss: 0.4425 - accuracy: 0.8708 - val_loss: 0.4571 - val_accuracy: 0.8817\n",
      "Epoch 5/90\n",
      "23/23 [==============================] - 4s 177ms/step - loss: 0.3875 - accuracy: 0.8819 - val_loss: 0.4354 - val_accuracy: 0.8602\n",
      "Epoch 6/90\n",
      "23/23 [==============================] - 4s 176ms/step - loss: 0.3785 - accuracy: 0.8903 - val_loss: 0.4231 - val_accuracy: 0.8710\n",
      "Epoch 7/90\n",
      "23/23 [==============================] - 4s 161ms/step - loss: 0.3429 - accuracy: 0.8972 - val_loss: 0.4245 - val_accuracy: 0.8710\n",
      "Epoch 8/90\n",
      "23/23 [==============================] - 4s 160ms/step - loss: 0.3142 - accuracy: 0.9014 - val_loss: 0.4021 - val_accuracy: 0.8710\n",
      "Epoch 9/90\n",
      "23/23 [==============================] - ETA: 0s - loss: 0.3245 - accuracy: 0.8986Restoring model weights from the end of the best epoch: 4.\n",
      "23/23 [==============================] - 4s 165ms/step - loss: 0.3245 - accuracy: 0.8986 - val_loss: 0.4091 - val_accuracy: 0.8710\n",
      "Epoch 9: early stopping\n"
     ]
    }
   ],
   "source": [
    "history = model.fit(X_train ,y_train ,epochs=90, validation_data=(X_val,y_val), callbacks=[early_stopping])"
   ]
  },
  {
   "cell_type": "code",
   "execution_count": 60,
   "metadata": {},
   "outputs": [
    {
     "name": "stdout",
     "output_type": "stream",
     "text": [
      "3/3 [==============================] - 0s 19ms/step - loss: 0.3718 - accuracy: 0.9213\n",
      "Test Loss: 0.37179866433143616, Test Accuracy: 0.9213483333587646\n"
     ]
    }
   ],
   "source": [
    "test_loss, test_accuracy = model.evaluate(X_test, y_test)\n",
    "print(f\"Test Loss: {test_loss}, Test Accuracy: {test_accuracy}\")"
   ]
  },
  {
   "cell_type": "code",
   "execution_count": 73,
   "metadata": {},
   "outputs": [
    {
     "name": "stdout",
     "output_type": "stream",
     "text": [
      "3/3 [==============================] - 0s 21ms/step\n"
     ]
    },
    {
     "name": "stdout",
     "output_type": "stream",
     "text": [
      "Shape of y_test_classes: (89,)\n",
      "Shape of y_pred_classes: (89,)\n",
      "              precision    recall  f1-score   support\n",
      "\n",
      "           0       1.00      0.75      0.86         4\n",
      "           1       1.00      0.83      0.91         6\n",
      "           2       0.00      0.00      0.00         2\n",
      "           3       0.88      1.00      0.93         7\n",
      "           4       0.91      1.00      0.95        59\n",
      "           5       0.00      0.00      0.00         3\n",
      "           6       1.00      1.00      1.00         8\n",
      "\n",
      "    accuracy                           0.92        89\n",
      "   macro avg       0.68      0.65      0.66        89\n",
      "weighted avg       0.87      0.92      0.89        89\n",
      "\n"
     ]
    },
    {
     "name": "stderr",
     "output_type": "stream",
     "text": [
      "d:\\Program Files (x86)\\Python\\Lib\\site-packages\\sklearn\\metrics\\_classification.py:1471: UndefinedMetricWarning: Precision and F-score are ill-defined and being set to 0.0 in labels with no predicted samples. Use `zero_division` parameter to control this behavior.\n",
      "  _warn_prf(average, modifier, msg_start, len(result))\n",
      "d:\\Program Files (x86)\\Python\\Lib\\site-packages\\sklearn\\metrics\\_classification.py:1471: UndefinedMetricWarning: Precision and F-score are ill-defined and being set to 0.0 in labels with no predicted samples. Use `zero_division` parameter to control this behavior.\n",
      "  _warn_prf(average, modifier, msg_start, len(result))\n",
      "d:\\Program Files (x86)\\Python\\Lib\\site-packages\\sklearn\\metrics\\_classification.py:1471: UndefinedMetricWarning: Precision and F-score are ill-defined and being set to 0.0 in labels with no predicted samples. Use `zero_division` parameter to control this behavior.\n",
      "  _warn_prf(average, modifier, msg_start, len(result))\n"
     ]
    }
   ],
   "source": [
    "from sklearn.metrics import classification_report\n",
    "from tensorflow.keras.utils import to_categorical\n",
    "\n",
    "# Predict classes\n",
    "y_pred = model.predict(np.array(X_test))\n",
    "y_pred_classes = np.argmax(y_pred, axis=1)\n",
    "\n",
    "# Assuming your labels were categorical and one-hot encoded during training\n",
    "# y_test_categorical = to_categorical(y_test)\n",
    "y_test_classes = np.argmax(y_test, axis=1)\n",
    "\n",
    "# Validate shapes\n",
    "print(f\"Shape of y_test_classes: {y_test_classes.shape}\")\n",
    "print(f\"Shape of y_pred_classes: {y_pred_classes.shape}\")\n",
    "\n",
    "# Ensure both are 1D arrays of the same length\n",
    "# assert y_test_classes.ndim == 1\n",
    "# assert y_pred_classes.ndim == 1\n",
    "# assert y_test_classes.shape[0] == y_pred_classes.shape[0]\n",
    "\n",
    "# Now generate the classification report\n",
    "print(classification_report(y_test_classes, y_pred_classes))\n"
   ]
  },
  {
   "cell_type": "code",
   "execution_count": 75,
   "metadata": {},
   "outputs": [
    {
     "data": {
      "image/png": "[encoded data removed]",
      "text/plain": [
       "<Figure size 640x480 with 2 Axes>"
      ]
     },
     "metadata": {},
     "output_type": "display_data"
    }
   ],
   "source": [
    "from sklearn.metrics import confusion_matrix\n",
    "import seaborn as sns\n",
    "import matplotlib.pyplot as plt\n",
    "\n",
    "conf_matrix = confusion_matrix(y_test_classes, y_pred_classes)\n",
    "sns.heatmap(conf_matrix, annot=True, fmt='g')\n",
    "plt.xlabel('Predicted labels')\n",
    "plt.ylabel('True labels')\n",
    "plt.show()"
   ]
  },
  {
   "cell_type": "code",
   "execution_count": 77,
   "metadata": {},
   "outputs": [],
   "source": [
    "model.save('../Recognition/Model/FER_w_CK+_v1.keras')"
   ]
  }
 ],
 "metadata": {
  "kernelspec": {
   "display_name": "Python 3",
   "language": "python",
   "name": "python3"
  },
  "language_info": {
   "codemirror_mode": {
    "name": "ipython",
    "version": 3
   },
   "file_extension": ".py",
   "mimetype": "text/x-python",
   "name": "python",
   "nbconvert_exporter": "python",
   "pygments_lexer": "ipython3",
   "version": "3.11.5"
  }
 },
 "nbformat": 4,
 "nbformat_minor": 2
}
